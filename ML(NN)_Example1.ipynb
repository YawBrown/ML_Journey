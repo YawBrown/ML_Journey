{
 "cells": [
  {
   "cell_type": "code",
   "execution_count": 36,
   "metadata": {},
   "outputs": [],
   "source": [
    "import numpy as np\n",
    "import matplotlib.pyplot as plt\n",
    "from mpl_toolkits.mplot3d import Axes3D\n",
    "# import seaborn as sns\n",
    "# sns.set()\n"
   ]
  },
  {
   "cell_type": "code",
   "execution_count": 37,
   "metadata": {},
   "outputs": [],
   "source": [
    "observations=10000\n",
    "x=np.random.uniform(low=-10,high=10,size=(observations,1))\n",
    "z=np.random.uniform(low=-10,high=10,size=(observations,1))"
   ]
  },
  {
   "cell_type": "code",
   "execution_count": 38,
   "metadata": {},
   "outputs": [],
   "source": [
    "inputs=np.column_stack((x,z))"
   ]
  },
  {
   "cell_type": "code",
   "execution_count": 39,
   "metadata": {},
   "outputs": [
    {
     "data": {
      "text/plain": [
       "(10000, 2)"
      ]
     },
     "execution_count": 39,
     "metadata": {},
     "output_type": "execute_result"
    }
   ],
   "source": [
    "inputs.shape"
   ]
  },
  {
   "cell_type": "code",
   "execution_count": 40,
   "metadata": {},
   "outputs": [],
   "source": [
    "noise=np.random.uniform(-1,1,(observations,1))\n",
    "targets=2*x-3*z+5+noise"
   ]
  },
  {
   "cell_type": "code",
   "execution_count": 41,
   "metadata": {},
   "outputs": [
    {
     "data": {
      "text/plain": [
       "(10000, 1)"
      ]
     },
     "execution_count": 41,
     "metadata": {},
     "output_type": "execute_result"
    }
   ],
   "source": [
    "targets.shape"
   ]
  },
  {
   "cell_type": "code",
   "execution_count": 42,
   "metadata": {},
   "outputs": [
    {
     "data": {
      "text/plain": [
       "(10000,)"
      ]
     },
     "execution_count": 42,
     "metadata": {},
     "output_type": "execute_result"
    }
   ],
   "source": [
    "targets=targets.reshape(observations,)\n",
    "x=x.reshape(observations,)\n",
    "z=z.reshape(observations,)\n",
    "targets.shape\n"
   ]
  },
  {
   "cell_type": "code",
   "execution_count": 43,
   "metadata": {},
   "outputs": [
    {
     "data": {
      "image/png": "[encoded data removed]",
      "text/plain": [
       "<Figure size 432x288 with 1 Axes>"
      ]
     },
     "metadata": {
      "needs_background": "light"
     },
     "output_type": "display_data"
    }
   ],
   "source": [
    "fig=plt.figure()\n",
    "ax=fig.add_subplot(111,projection='3d')\n",
    "ax.plot(x,z,targets)\n",
    "ax.set_xlabel('X')\n",
    "ax.set_ylabel('Y')\n",
    "ax.set_zlabel('TARGETS')\n",
    "ax.view_init(azim=100)\n",
    "\n",
    "plt.show()\n",
    "\n"
   ]
  },
  {
   "cell_type": "code",
   "execution_count": 44,
   "metadata": {},
   "outputs": [],
   "source": [
    "targets=targets.reshape(observations,1)\n",
    "x=x.reshape(observations,1)\n",
    "z=z.reshape(observations,1)"
   ]
  },
  {
   "cell_type": "code",
   "execution_count": 45,
   "metadata": {},
   "outputs": [
    {
     "name": "stdout",
     "output_type": "stream",
     "text": [
      "[[-0.0463829 ]\n",
      " [ 0.04261726]]\n",
      "[0.0556875]\n"
     ]
    }
   ],
   "source": [
    "init_range=0.1\n",
    "weights=np.random.uniform(-init_range,init_range,(2,1))\n",
    "biases=np.random.uniform(-init_range,init_range,1)\n",
    "print(weights)\n",
    "print(biases)"
   ]
  },
  {
   "cell_type": "code",
   "execution_count": 46,
   "metadata": {},
   "outputs": [],
   "source": [
    "learning_rate=0.02"
   ]
  },
  {
   "cell_type": "code",
   "execution_count": 47,
   "metadata": {},
   "outputs": [
    {
     "data": {
      "text/plain": [
       "(2, 1)"
      ]
     },
     "execution_count": 47,
     "metadata": {},
     "output_type": "execute_result"
    }
   ],
   "source": [
    "inputs.shape\n",
    "weights.shape"
   ]
  },
  {
   "cell_type": "code",
   "execution_count": 48,
   "metadata": {},
   "outputs": [
    {
     "name": "stdout",
     "output_type": "stream",
     "text": [
      "235.75140336466347\n",
      "37.19724751063548\n",
      "14.303405249110487\n",
      "11.317106024625485\n",
      "10.600761075260467\n",
      "10.156450409552752\n",
      "9.75732564059716\n",
      "9.377127008405225\n",
      "9.012333824985618\n",
      "8.662022325361624\n",
      "8.325583650761423\n",
      "8.00246457096922\n",
      "7.692137327963883\n",
      "7.394095461287006\n",
      "7.107852606270121\n",
      "6.832941657850164\n",
      "6.568914003510152\n",
      "6.31533879066692\n",
      "6.0718022235241165\n",
      "5.837906887814017\n",
      "5.613271102277693\n",
      "5.397528295819747\n",
      "5.190326409320564\n",
      "4.991327321129931\n",
      "4.8002062953044256\n",
      "4.616651451688249\n",
      "4.440363256972715\n",
      "4.271054035903908\n",
      "4.1084475018408515\n",
      "3.9522783058981505\n",
      "3.8022916039373826\n",
      "3.658242640700599\n",
      "3.5198963504073415\n",
      "3.3870269731634077\n",
      "3.2594176865553677\n",
      "3.1368602518297095\n",
      "3.0191546740791657\n",
      "2.906108875881748\n",
      "2.7975383838599166\n",
      "2.6932660276483404\n",
      "2.593121650779096\n",
      "2.4969418330124413\n",
      "2.4045696236600835\n",
      "2.3158542854657758\n",
      "2.2306510486252606\n",
      "2.1488208745441986\n",
      "2.070230228948523\n",
      "1.9947508639770348\n",
      "1.9222596089005834\n",
      "1.8526381691263607\n",
      "1.7857729331592906\n",
      "1.7215547872055337\n",
      "1.6598789371155238\n",
      "1.6006447373760206\n",
      "1.5437555268720946\n",
      "1.4891184711510248\n",
      "1.436644410930746\n",
      "1.3862477166055833\n",
      "1.337846148511903\n",
      "1.2913607227256012\n",
      "1.2467155821724831\n",
      "1.203837872841163\n",
      "1.1626576248965108\n",
      "1.1231076384996341\n",
      "1.0851233741480573\n",
      "1.0486428473571705\n",
      "1.0136065275110704\n",
      "0.9799572407177429\n",
      "0.9476400765100532\n",
      "0.916602298240295\n",
      "0.8867932570220859\n",
      "0.8581643090791616\n",
      "0.8306687363662095\n",
      "0.8042616703321932\n",
      "0.7789000187017682\n",
      "0.7545423951553099\n",
      "0.7311490517927965\n",
      "0.708681814271342\n",
      "0.6871040195105332\n",
      "0.6663804558639129\n",
      "0.6464773056589829\n",
      "0.6273620900119575\n",
      "0.6090036158272143\n",
      "0.5913719248949519\n",
      "0.5744382450039964\n",
      "0.558174942989971\n",
      "0.5425554796422132\n",
      "0.5275543663958678\n",
      "0.5131471237384563\n",
      "0.4993102412630762\n",
      "0.48602113930302915\n",
      "0.47325813208527395\n",
      "0.4610003923425719\n",
      "0.4492279173265912\n",
      "0.43792149616649056\n",
      "0.4270626785197298\n",
      "0.41663374446394746\n",
      "0.40661767558076656\n",
      "0.39699812718435057\n",
      "0.38775940164938677\n"
     ]
    }
   ],
   "source": [
    "\n",
    "for i in range (100):\n",
    "    \n",
    "    \n",
    "    outputs = np.dot(inputs,weights) + biases\n",
    "   \n",
    "    deltas = outputs - targets\n",
    "        \n",
    "    \n",
    "    loss = np.sum(deltas ** 2) / 2 / observations\n",
    "    \n",
    "    \n",
    "    print (loss)\n",
    "    \n",
    "    \n",
    "    deltas_scaled = deltas / observations\n",
    "    \n",
    "   \n",
    "    weights = weights - learning_rate * np.dot(inputs.T,deltas_scaled)\n",
    "    biases = biases - learning_rate * np.sum(deltas_scaled)\n",
    "    \n",
    "    "
   ]
  },
  {
   "cell_type": "code",
   "execution_count": 49,
   "metadata": {},
   "outputs": [
    {
     "name": "stdout",
     "output_type": "stream",
     "text": [
      "[[ 1.99998069]\n",
      " [-3.00001775]] [4.34713202]\n"
     ]
    }
   ],
   "source": [
    "print(weights,biases)"
   ]
  },
  {
   "cell_type": "code",
   "execution_count": 50,
   "metadata": {},
   "outputs": [
    {
     "data": {
      "image/png": "[encoded data removed]",
      "text/plain": [
       "<Figure size 432x288 with 1 Axes>"
      ]
     },
     "metadata": {
      "needs_background": "light"
     },
     "output_type": "display_data"
    }
   ],
   "source": [
    "plt.plot(outputs,targets)\n",
    "plt.xlabel('outputs')\n",
    "plt.ylabel('targets')\n",
    "plt.show()"
   ]
  }
 ],
 "metadata": {
  "interpreter": {
   "hash": "e4c8d97bca6ef0db9908b9a212ec47da8d4ee9fc6b547847fdea7c907f4c1000"
  },
  "kernelspec": {
   "display_name": "Python 3.9.7 ('base')",
   "language": "python",
   "name": "python3"
  },
  "language_info": {
   "codemirror_mode": {
    "name": "ipython",
    "version": 3
   },
   "file_extension": ".py",
   "mimetype": "text/x-python",
   "name": "python",
   "nbconvert_exporter": "python",
   "pygments_lexer": "ipython3",
   "version": "3.9.7"
  },
  "orig_nbformat": 4
 },
 "nbformat": 4,
 "nbformat_minor": 2
}
