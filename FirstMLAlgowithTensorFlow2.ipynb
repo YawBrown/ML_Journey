{
 "cells": [
  {
   "cell_type": "code",
   "execution_count": 2,
   "metadata": {},
   "outputs": [
    {
     "name": "stderr",
     "output_type": "stream",
     "text": [
      "C:\\Users\\Nicholas Brown\\anaconda3\\envs\\TF2\\lib\\site-packages\\tensorboard\\compat\\tensorflow_stub\\dtypes.py:541: FutureWarning: Passing (type, 1) or '1type' as a synonym of type is deprecated; in a future version of numpy, it will be understood as (type, (1,)) / '(1,)type'.\n",
      "  _np_qint8 = np.dtype([(\"qint8\", np.int8, 1)])\n",
      "C:\\Users\\Nicholas Brown\\anaconda3\\envs\\TF2\\lib\\site-packages\\tensorboard\\compat\\tensorflow_stub\\dtypes.py:542: FutureWarning: Passing (type, 1) or '1type' as a synonym of type is deprecated; in a future version of numpy, it will be understood as (type, (1,)) / '(1,)type'.\n",
      "  _np_quint8 = np.dtype([(\"quint8\", np.uint8, 1)])\n",
      "C:\\Users\\Nicholas Brown\\anaconda3\\envs\\TF2\\lib\\site-packages\\tensorboard\\compat\\tensorflow_stub\\dtypes.py:543: FutureWarning: Passing (type, 1) or '1type' as a synonym of type is deprecated; in a future version of numpy, it will be understood as (type, (1,)) / '(1,)type'.\n",
      "  _np_qint16 = np.dtype([(\"qint16\", np.int16, 1)])\n",
      "C:\\Users\\Nicholas Brown\\anaconda3\\envs\\TF2\\lib\\site-packages\\tensorboard\\compat\\tensorflow_stub\\dtypes.py:544: FutureWarning: Passing (type, 1) or '1type' as a synonym of type is deprecated; in a future version of numpy, it will be understood as (type, (1,)) / '(1,)type'.\n",
      "  _np_quint16 = np.dtype([(\"quint16\", np.uint16, 1)])\n",
      "C:\\Users\\Nicholas Brown\\anaconda3\\envs\\TF2\\lib\\site-packages\\tensorboard\\compat\\tensorflow_stub\\dtypes.py:545: FutureWarning: Passing (type, 1) or '1type' as a synonym of type is deprecated; in a future version of numpy, it will be understood as (type, (1,)) / '(1,)type'.\n",
      "  _np_qint32 = np.dtype([(\"qint32\", np.int32, 1)])\n",
      "C:\\Users\\Nicholas Brown\\anaconda3\\envs\\TF2\\lib\\site-packages\\tensorboard\\compat\\tensorflow_stub\\dtypes.py:550: FutureWarning: Passing (type, 1) or '1type' as a synonym of type is deprecated; in a future version of numpy, it will be understood as (type, (1,)) / '(1,)type'.\n",
      "  np_resource = np.dtype([(\"resource\", np.ubyte, 1)])\n"
     ]
    }
   ],
   "source": [
    "import tensorflow as tf\n",
    "import matplotlib.pyplot as plt\n",
    "import numpy as np\n"
   ]
  },
  {
   "cell_type": "code",
   "execution_count": 3,
   "metadata": {},
   "outputs": [],
   "source": [
    "observations=100000\n",
    "xs=np.random.uniform(low=-10,high=10,size=(observations,1))\n",
    "zs=np.random.uniform(-10,10,(observations,1))\n"
   ]
  },
  {
   "cell_type": "code",
   "execution_count": 4,
   "metadata": {},
   "outputs": [],
   "source": [
    "generated_inputs=np.column_stack((xs,zs))"
   ]
  },
  {
   "cell_type": "code",
   "execution_count": 5,
   "metadata": {},
   "outputs": [
    {
     "data": {
      "text/plain": [
       "array([[ 5.91771422, -4.90557948],\n",
       "       [-0.17210718, -5.16914481],\n",
       "       [-3.60913108, -0.01593008],\n",
       "       ...,\n",
       "       [-9.76316082, -0.99686262],\n",
       "       [-1.42178188, -0.10202191],\n",
       "       [-5.51847153,  3.62075272]])"
      ]
     },
     "execution_count": 5,
     "metadata": {},
     "output_type": "execute_result"
    }
   ],
   "source": [
    "generated_inputs"
   ]
  },
  {
   "cell_type": "code",
   "execution_count": 6,
   "metadata": {},
   "outputs": [],
   "source": [
    "noise=np.random.uniform(-1,1,(observations,1))"
   ]
  },
  {
   "cell_type": "code",
   "execution_count": 7,
   "metadata": {},
   "outputs": [],
   "source": [
    "generated_targets=2*xs -3*zs +5 + noise"
   ]
  },
  {
   "cell_type": "code",
   "execution_count": 8,
   "metadata": {},
   "outputs": [],
   "source": [
    "np.savez('TF_intro',inputs=generated_inputs,targets=generated_targets)"
   ]
  },
  {
   "cell_type": "code",
   "execution_count": 19,
   "metadata": {},
   "outputs": [],
   "source": [
    "training_data=np.load('TF_intro.npz')"
   ]
  },
  {
   "cell_type": "code",
   "execution_count": 20,
   "metadata": {},
   "outputs": [
    {
     "name": "stdout",
     "output_type": "stream",
     "text": [
      "Train on 100000 samples\n",
      "Epoch 1/100\n",
      "100000/100000 - 4s - loss: 0.6311\n",
      "Epoch 2/100\n",
      "100000/100000 - 3s - loss: 0.3433\n",
      "Epoch 3/100\n",
      "100000/100000 - 3s - loss: 0.3430\n",
      "Epoch 4/100\n",
      "100000/100000 - 3s - loss: 0.3440\n",
      "Epoch 5/100\n",
      "100000/100000 - 4s - loss: 0.3438\n",
      "Epoch 6/100\n",
      "100000/100000 - 3s - loss: 0.3430\n",
      "Epoch 7/100\n",
      "100000/100000 - 3s - loss: 0.3437\n",
      "Epoch 8/100\n",
      "100000/100000 - 3s - loss: 0.3438\n",
      "Epoch 9/100\n",
      "100000/100000 - 3s - loss: 0.3437\n",
      "Epoch 10/100\n",
      "100000/100000 - 4s - loss: 0.3434\n",
      "Epoch 11/100\n",
      "100000/100000 - 3s - loss: 0.3436\n",
      "Epoch 12/100\n",
      "100000/100000 - 3s - loss: 0.3439\n",
      "Epoch 13/100\n",
      "100000/100000 - 3s - loss: 0.3440\n",
      "Epoch 14/100\n",
      "100000/100000 - 3s - loss: 0.3431\n",
      "Epoch 15/100\n",
      "100000/100000 - 4s - loss: 0.3432\n",
      "Epoch 16/100\n",
      "100000/100000 - 3s - loss: 0.3435\n",
      "Epoch 17/100\n",
      "100000/100000 - 3s - loss: 0.3436\n",
      "Epoch 18/100\n",
      "100000/100000 - 3s - loss: 0.3438\n",
      "Epoch 19/100\n",
      "100000/100000 - 3s - loss: 0.3437\n",
      "Epoch 20/100\n",
      "100000/100000 - 4s - loss: 0.3433\n",
      "Epoch 21/100\n",
      "100000/100000 - 3s - loss: 0.3438\n",
      "Epoch 22/100\n",
      "100000/100000 - 3s - loss: 0.3441\n",
      "Epoch 23/100\n",
      "100000/100000 - 3s - loss: 0.3432\n",
      "Epoch 24/100\n",
      "100000/100000 - 3s - loss: 0.3440\n",
      "Epoch 25/100\n",
      "100000/100000 - 4s - loss: 0.3443\n",
      "Epoch 26/100\n",
      "100000/100000 - 3s - loss: 0.3440\n",
      "Epoch 27/100\n",
      "100000/100000 - 3s - loss: 0.3440\n",
      "Epoch 28/100\n",
      "100000/100000 - 3s - loss: 0.3439\n",
      "Epoch 29/100\n",
      "100000/100000 - 3s - loss: 0.3435\n",
      "Epoch 30/100\n",
      "100000/100000 - 3s - loss: 0.3445\n",
      "Epoch 31/100\n",
      "100000/100000 - 3s - loss: 0.3432\n",
      "Epoch 32/100\n",
      "100000/100000 - 3s - loss: 0.3429\n",
      "Epoch 33/100\n",
      "100000/100000 - 3s - loss: 0.3434\n",
      "Epoch 34/100\n",
      "100000/100000 - 3s - loss: 0.3437\n",
      "Epoch 35/100\n",
      "100000/100000 - 3s - loss: 0.3440\n",
      "Epoch 36/100\n",
      "100000/100000 - 3s - loss: 0.3436\n",
      "Epoch 37/100\n",
      "100000/100000 - 3s - loss: 0.3436\n",
      "Epoch 38/100\n",
      "100000/100000 - 3s - loss: 0.3440\n",
      "Epoch 39/100\n",
      "100000/100000 - 3s - loss: 0.3437\n",
      "Epoch 40/100\n",
      "100000/100000 - 3s - loss: 0.3435\n",
      "Epoch 41/100\n",
      "100000/100000 - 3s - loss: 0.3438\n",
      "Epoch 42/100\n",
      "100000/100000 - 3s - loss: 0.3440\n",
      "Epoch 43/100\n",
      "100000/100000 - 3s - loss: 0.3441\n",
      "Epoch 44/100\n",
      "100000/100000 - 4s - loss: 0.3430\n",
      "Epoch 45/100\n",
      "100000/100000 - 3s - loss: 0.3439\n",
      "Epoch 46/100\n",
      "100000/100000 - 3s - loss: 0.3440\n",
      "Epoch 47/100\n",
      "100000/100000 - 3s - loss: 0.3440\n",
      "Epoch 48/100\n",
      "100000/100000 - 3s - loss: 0.3441\n",
      "Epoch 49/100\n",
      "100000/100000 - 4s - loss: 0.3437\n",
      "Epoch 50/100\n",
      "100000/100000 - 3s - loss: 0.3439\n",
      "Epoch 51/100\n",
      "100000/100000 - 3s - loss: 0.3434\n",
      "Epoch 52/100\n",
      "100000/100000 - 3s - loss: 0.3444\n",
      "Epoch 53/100\n",
      "100000/100000 - 3s - loss: 0.3440\n",
      "Epoch 54/100\n",
      "100000/100000 - 4s - loss: 0.3438\n",
      "Epoch 55/100\n",
      "100000/100000 - 3s - loss: 0.3440\n",
      "Epoch 56/100\n",
      "100000/100000 - 3s - loss: 0.3435\n",
      "Epoch 57/100\n",
      "100000/100000 - 3s - loss: 0.3438\n",
      "Epoch 58/100\n",
      "100000/100000 - 3s - loss: 0.3432\n",
      "Epoch 59/100\n",
      "100000/100000 - 4s - loss: 0.3428\n",
      "Epoch 60/100\n",
      "100000/100000 - 3s - loss: 0.3438\n",
      "Epoch 61/100\n",
      "100000/100000 - 3s - loss: 0.3435\n",
      "Epoch 62/100\n",
      "100000/100000 - 3s - loss: 0.3439\n",
      "Epoch 63/100\n",
      "100000/100000 - 3s - loss: 0.3432\n",
      "Epoch 64/100\n",
      "100000/100000 - 4s - loss: 0.3438\n",
      "Epoch 65/100\n",
      "100000/100000 - 3s - loss: 0.3441\n",
      "Epoch 66/100\n",
      "100000/100000 - 3s - loss: 0.3434\n",
      "Epoch 67/100\n",
      "100000/100000 - 3s - loss: 0.3435\n",
      "Epoch 68/100\n",
      "100000/100000 - 3s - loss: 0.3441\n",
      "Epoch 69/100\n",
      "100000/100000 - 4s - loss: 0.3439\n",
      "Epoch 70/100\n",
      "100000/100000 - 3s - loss: 0.3434\n",
      "Epoch 71/100\n",
      "100000/100000 - 3s - loss: 0.3441\n",
      "Epoch 72/100\n",
      "100000/100000 - 3s - loss: 0.3432\n",
      "Epoch 73/100\n",
      "100000/100000 - 3s - loss: 0.3439\n",
      "Epoch 74/100\n",
      "100000/100000 - 3s - loss: 0.3435\n",
      "Epoch 75/100\n",
      "100000/100000 - 3s - loss: 0.3437\n",
      "Epoch 76/100\n",
      "100000/100000 - 3s - loss: 0.3439\n",
      "Epoch 77/100\n",
      "100000/100000 - 3s - loss: 0.3433\n",
      "Epoch 78/100\n",
      "100000/100000 - 4s - loss: 0.3441\n",
      "Epoch 79/100\n",
      "100000/100000 - 3s - loss: 0.3440\n",
      "Epoch 80/100\n",
      "100000/100000 - 3s - loss: 0.3436\n",
      "Epoch 81/100\n",
      "100000/100000 - 3s - loss: 0.3441\n",
      "Epoch 82/100\n",
      "100000/100000 - 3s - loss: 0.3434\n",
      "Epoch 83/100\n",
      "100000/100000 - 3s - loss: 0.3436\n",
      "Epoch 84/100\n",
      "100000/100000 - 4s - loss: 0.3441\n",
      "Epoch 85/100\n",
      "100000/100000 - 3s - loss: 0.3442\n",
      "Epoch 86/100\n",
      "100000/100000 - 3s - loss: 0.3439\n",
      "Epoch 87/100\n",
      "100000/100000 - 3s - loss: 0.3434\n",
      "Epoch 88/100\n",
      "100000/100000 - 4s - loss: 0.3442\n",
      "Epoch 89/100\n",
      "100000/100000 - 3s - loss: 0.3437\n",
      "Epoch 90/100\n",
      "100000/100000 - 3s - loss: 0.3432\n",
      "Epoch 91/100\n",
      "100000/100000 - 3s - loss: 0.3435\n",
      "Epoch 92/100\n",
      "100000/100000 - 3s - loss: 0.3438\n",
      "Epoch 93/100\n",
      "100000/100000 - 4s - loss: 0.3427\n",
      "Epoch 94/100\n",
      "100000/100000 - 3s - loss: 0.3435\n",
      "Epoch 95/100\n",
      "100000/100000 - 3s - loss: 0.3435\n",
      "Epoch 96/100\n",
      "100000/100000 - 3s - loss: 0.3428\n",
      "Epoch 97/100\n",
      "100000/100000 - 3s - loss: 0.3431\n",
      "Epoch 98/100\n",
      "100000/100000 - 4s - loss: 0.3441\n",
      "Epoch 99/100\n",
      "100000/100000 - 3s - loss: 0.3438\n",
      "Epoch 100/100\n",
      "100000/100000 - 3s - loss: 0.3435\n"
     ]
    },
    {
     "data": {
      "text/plain": [
       "<tensorflow.python.keras.callbacks.History at 0x240d25264c8>"
      ]
     },
     "execution_count": 20,
     "metadata": {},
     "output_type": "execute_result"
    }
   ],
   "source": [
    "input_size= 2\n",
    "output_size= 1\n",
    "\n",
    "model= tf.keras.Sequential([\n",
    "    tf.keras.layers.Dense(output_size)\n",
    "])\n",
    "\n",
    "model.compile(optimizer='sgd',loss='mean_squared_error')\n",
    "\n",
    "model.fit(training_data['inputs'],training_data['targets'],epochs=100,verbose=2)\n",
    "\n"
   ]
  },
  {
   "cell_type": "code",
   "execution_count": 21,
   "metadata": {},
   "outputs": [
    {
     "data": {
      "text/plain": [
       "[array([[ 1.9801999],\n",
       "        [-3.0099328]], dtype=float32),\n",
       " array([4.995215], dtype=float32)]"
      ]
     },
     "execution_count": 21,
     "metadata": {},
     "output_type": "execute_result"
    }
   ],
   "source": [
    "model.layers[0].get_weights()"
   ]
  },
  {
   "cell_type": "code",
   "execution_count": 22,
   "metadata": {},
   "outputs": [],
   "source": [
    "weights=model.layers[0].get_weights()[0]\n",
    "biases=model.layers[0].get_weights()[1]"
   ]
  },
  {
   "cell_type": "code",
   "execution_count": 23,
   "metadata": {},
   "outputs": [
    {
     "name": "stdout",
     "output_type": "stream",
     "text": [
      "WARNING:tensorflow:AutoGraph could not transform <bound method Layer.__call__ of <tensorflow.python.keras.engine.sequential.Sequential object at 0x00000240D2652F48>> and will run it as-is.\n",
      "Please report this to the TensorFlow team. When filing the bug, set the verbosity to 10 (on Linux, `export AUTOGRAPH_VERBOSITY=10`) and attach the full output.\n",
      "Cause: No module named 'tensorflow_core.estimator'\n",
      "WARNING: AutoGraph could not transform <bound method Layer.__call__ of <tensorflow.python.keras.engine.sequential.Sequential object at 0x00000240D2652F48>> and will run it as-is.\n",
      "Please report this to the TensorFlow team. When filing the bug, set the verbosity to 10 (on Linux, `export AUTOGRAPH_VERBOSITY=10`) and attach the full output.\n",
      "Cause: No module named 'tensorflow_core.estimator'\n"
     ]
    },
    {
     "data": {
      "image/png": "[encoded data removed]",
      "text/plain": [
       "<Figure size 640x480 with 1 Axes>"
      ]
     },
     "metadata": {},
     "output_type": "display_data"
    }
   ],
   "source": [
    "plt.plot(model.predict_on_batch(training_data['inputs']),training_data['targets'])\n",
    "plt.xlabel('outputs')\n",
    "plt.ylabel('targets')\n",
    "plt.show()"
   ]
  },
  {
   "cell_type": "markdown",
   "metadata": {},
   "source": [
    "Customizing a Tensorflow 2 Model"
   ]
  },
  {
   "cell_type": "code",
   "execution_count": 9,
   "metadata": {},
   "outputs": [],
   "source": [
    "training_data=np.load('TF_intro.npz')"
   ]
  },
  {
   "cell_type": "code",
   "execution_count": 17,
   "metadata": {},
   "outputs": [
    {
     "name": "stdout",
     "output_type": "stream",
     "text": [
      "Train on 100000 samples\n",
      "Epoch 1/100\n",
      "100000/100000 - 5s - loss: 4.7203\n",
      "Epoch 2/100\n",
      "100000/100000 - 4s - loss: 0.7676\n",
      "Epoch 3/100\n",
      "100000/100000 - 6s - loss: 0.1720\n",
      "Epoch 4/100\n",
      "100000/100000 - 6s - loss: 0.1665\n",
      "Epoch 5/100\n",
      "100000/100000 - 4s - loss: 0.1665\n",
      "Epoch 6/100\n",
      "100000/100000 - 6s - loss: 0.1665\n",
      "Epoch 7/100\n",
      "100000/100000 - 4s - loss: 0.1665\n",
      "Epoch 8/100\n",
      "100000/100000 - 4s - loss: 0.1665\n",
      "Epoch 9/100\n",
      "100000/100000 - 5s - loss: 0.1665\n",
      "Epoch 10/100\n",
      "100000/100000 - 4s - loss: 0.1665\n",
      "Epoch 11/100\n",
      "100000/100000 - 6s - loss: 0.1665\n",
      "Epoch 12/100\n",
      "100000/100000 - 4s - loss: 0.1665\n",
      "Epoch 13/100\n",
      "100000/100000 - 4s - loss: 0.1665\n",
      "Epoch 14/100\n",
      "100000/100000 - 5s - loss: 0.1665\n",
      "Epoch 15/100\n",
      "100000/100000 - 4s - loss: 0.1665\n",
      "Epoch 16/100\n",
      "100000/100000 - 4s - loss: 0.1665\n",
      "Epoch 17/100\n",
      "100000/100000 - 6s - loss: 0.1665\n",
      "Epoch 18/100\n",
      "100000/100000 - 5s - loss: 0.1665\n",
      "Epoch 19/100\n",
      "100000/100000 - 4s - loss: 0.1665\n",
      "Epoch 20/100\n",
      "100000/100000 - 4s - loss: 0.1665\n",
      "Epoch 21/100\n",
      "100000/100000 - 4s - loss: 0.1665\n",
      "Epoch 22/100\n",
      "100000/100000 - 4s - loss: 0.1665\n",
      "Epoch 23/100\n",
      "100000/100000 - 4s - loss: 0.1665\n",
      "Epoch 24/100\n",
      "100000/100000 - 5s - loss: 0.1665\n",
      "Epoch 25/100\n",
      "100000/100000 - 5s - loss: 0.1665\n",
      "Epoch 26/100\n",
      "100000/100000 - 4s - loss: 0.1665\n",
      "Epoch 27/100\n",
      "100000/100000 - 5s - loss: 0.1665\n",
      "Epoch 28/100\n",
      "100000/100000 - 4s - loss: 0.1665\n",
      "Epoch 29/100\n",
      "100000/100000 - 5s - loss: 0.1665\n",
      "Epoch 30/100\n",
      "100000/100000 - 4s - loss: 0.1665\n",
      "Epoch 31/100\n",
      "100000/100000 - 6s - loss: 0.1665\n",
      "Epoch 32/100\n",
      "100000/100000 - 5s - loss: 0.1665\n",
      "Epoch 33/100\n",
      "100000/100000 - 4s - loss: 0.1665\n",
      "Epoch 34/100\n",
      "100000/100000 - 4s - loss: 0.1665\n",
      "Epoch 35/100\n",
      "100000/100000 - 6s - loss: 0.1665\n",
      "Epoch 36/100\n",
      "100000/100000 - 5s - loss: 0.1665\n",
      "Epoch 37/100\n",
      "100000/100000 - 5s - loss: 0.1665\n",
      "Epoch 38/100\n",
      "100000/100000 - 7s - loss: 0.1665\n",
      "Epoch 39/100\n",
      "100000/100000 - 4s - loss: 0.1665\n",
      "Epoch 40/100\n",
      "100000/100000 - 4s - loss: 0.1665\n",
      "Epoch 41/100\n",
      "100000/100000 - 4s - loss: 0.1665\n",
      "Epoch 42/100\n",
      "100000/100000 - 4s - loss: 0.1665\n",
      "Epoch 43/100\n",
      "100000/100000 - 6s - loss: 0.1665\n",
      "Epoch 44/100\n",
      "100000/100000 - 5s - loss: 0.1665\n",
      "Epoch 45/100\n",
      "100000/100000 - 4s - loss: 0.1665\n",
      "Epoch 46/100\n",
      "100000/100000 - 4s - loss: 0.1665\n",
      "Epoch 47/100\n",
      "100000/100000 - 4s - loss: 0.1665\n",
      "Epoch 48/100\n",
      "100000/100000 - 4s - loss: 0.1665\n",
      "Epoch 49/100\n",
      "100000/100000 - 4s - loss: 0.1665\n",
      "Epoch 50/100\n",
      "100000/100000 - 4s - loss: 0.1665\n",
      "Epoch 51/100\n",
      "100000/100000 - 5s - loss: 0.1665\n",
      "Epoch 52/100\n",
      "100000/100000 - 6s - loss: 0.1665\n",
      "Epoch 53/100\n",
      "100000/100000 - 4s - loss: 0.1665\n",
      "Epoch 54/100\n",
      "100000/100000 - 4s - loss: 0.1665\n",
      "Epoch 55/100\n",
      "100000/100000 - 5s - loss: 0.1665\n",
      "Epoch 56/100\n",
      "100000/100000 - 4s - loss: 0.1665\n",
      "Epoch 57/100\n",
      "100000/100000 - 4s - loss: 0.1665\n",
      "Epoch 58/100\n",
      "100000/100000 - 4s - loss: 0.1665\n",
      "Epoch 59/100\n",
      "100000/100000 - 5s - loss: 0.1665\n",
      "Epoch 60/100\n",
      "100000/100000 - 5s - loss: 0.1665\n",
      "Epoch 61/100\n",
      "100000/100000 - 5s - loss: 0.1665\n",
      "Epoch 62/100\n",
      "100000/100000 - 4s - loss: 0.1665\n",
      "Epoch 63/100\n",
      "100000/100000 - 4s - loss: 0.1665\n",
      "Epoch 64/100\n",
      "100000/100000 - 4s - loss: 0.1665\n",
      "Epoch 65/100\n",
      "100000/100000 - 4s - loss: 0.1665\n",
      "Epoch 66/100\n",
      "100000/100000 - 4s - loss: 0.1665\n",
      "Epoch 67/100\n",
      "100000/100000 - 4s - loss: 0.1665\n",
      "Epoch 68/100\n",
      "100000/100000 - 4s - loss: 0.1665\n",
      "Epoch 69/100\n",
      "100000/100000 - 4s - loss: 0.1665\n",
      "Epoch 70/100\n",
      "100000/100000 - 4s - loss: 0.1665\n",
      "Epoch 71/100\n",
      "100000/100000 - 4s - loss: 0.1665\n",
      "Epoch 72/100\n",
      "100000/100000 - 4s - loss: 0.1665\n",
      "Epoch 73/100\n",
      "100000/100000 - 4s - loss: 0.1665\n",
      "Epoch 74/100\n",
      "100000/100000 - 4s - loss: 0.1665\n",
      "Epoch 75/100\n",
      "100000/100000 - 4s - loss: 0.1665\n",
      "Epoch 76/100\n",
      "100000/100000 - 5s - loss: 0.1665\n",
      "Epoch 77/100\n",
      "100000/100000 - 6s - loss: 0.1665\n",
      "Epoch 78/100\n",
      "100000/100000 - 5s - loss: 0.1665\n",
      "Epoch 79/100\n",
      "100000/100000 - 4s - loss: 0.1665\n",
      "Epoch 80/100\n",
      "100000/100000 - 5s - loss: 0.1665\n",
      "Epoch 81/100\n",
      "100000/100000 - 4s - loss: 0.1665\n",
      "Epoch 82/100\n",
      "100000/100000 - 4s - loss: 0.1665\n",
      "Epoch 83/100\n",
      "100000/100000 - 4s - loss: 0.1665\n",
      "Epoch 84/100\n",
      "100000/100000 - 5s - loss: 0.1665\n",
      "Epoch 85/100\n",
      "100000/100000 - 6s - loss: 0.1665\n",
      "Epoch 86/100\n",
      "100000/100000 - 5s - loss: 0.1665\n",
      "Epoch 87/100\n",
      "100000/100000 - 6s - loss: 0.1665\n",
      "Epoch 88/100\n",
      "100000/100000 - 5s - loss: 0.1665\n",
      "Epoch 89/100\n",
      "100000/100000 - 4s - loss: 0.1665\n",
      "Epoch 90/100\n",
      "100000/100000 - 4s - loss: 0.1665\n",
      "Epoch 91/100\n",
      "100000/100000 - 4s - loss: 0.1665\n",
      "Epoch 92/100\n",
      "100000/100000 - 4s - loss: 0.1665\n",
      "Epoch 93/100\n",
      "100000/100000 - 4s - loss: 0.1665\n",
      "Epoch 94/100\n",
      "100000/100000 - 4s - loss: 0.1665\n",
      "Epoch 95/100\n",
      "100000/100000 - 5s - loss: 0.1665\n",
      "Epoch 96/100\n",
      "100000/100000 - 4s - loss: 0.1665\n",
      "Epoch 97/100\n",
      "100000/100000 - 4s - loss: 0.1665\n",
      "Epoch 98/100\n",
      "100000/100000 - 4s - loss: 0.1665\n",
      "Epoch 99/100\n",
      "100000/100000 - 4s - loss: 0.1665\n",
      "Epoch 100/100\n",
      "100000/100000 - 4s - loss: 0.1665\n"
     ]
    },
    {
     "data": {
      "text/plain": [
       "<tensorflow.python.keras.callbacks.History at 0x26bf4b2d308>"
      ]
     },
     "execution_count": 17,
     "metadata": {},
     "output_type": "execute_result"
    }
   ],
   "source": [
    "input_size= 2\n",
    "output_size= 1\n",
    "\n",
    "model= tf.keras.Sequential([\n",
    "    tf.keras.layers.Dense(output_size,kernel_initializer=tf.random_uniform_initializer(minval=-0.1,maxval=0.1),\n",
    "    bias_initializer=tf.random_uniform_initializer(minval=-0.1,maxval=0.1))\n",
    "])\n",
    "custom_optimizer=tf.keras.optimizers.SGD(learning_rate=0.001)\n",
    "model.compile(optimizer=custom_optimizer,loss=tf.keras.losses.Huber())\n",
    "\n",
    "model.fit(training_data['inputs'],training_data['targets'],epochs=100,verbose=2)\n"
   ]
  },
  {
   "cell_type": "code",
   "execution_count": 15,
   "metadata": {},
   "outputs": [],
   "source": [
    "weights=model.layers[0].get_weights()[0]\n",
    "biases=model.layers[0].get_weights()[1]"
   ]
  },
  {
   "cell_type": "code",
   "execution_count": 16,
   "metadata": {},
   "outputs": [
    {
     "data": {
      "text/plain": [
       "array([[ 1.9962057],\n",
       "       [-3.0001552]], dtype=float32)"
      ]
     },
     "execution_count": 16,
     "metadata": {},
     "output_type": "execute_result"
    }
   ],
   "source": [
    "weights"
   ]
  },
  {
   "cell_type": "code",
   "execution_count": 13,
   "metadata": {},
   "outputs": [
    {
     "data": {
      "text/plain": [
       "array([4.9949865], dtype=float32)"
      ]
     },
     "execution_count": 13,
     "metadata": {},
     "output_type": "execute_result"
    }
   ],
   "source": [
    "biases"
   ]
  }
 ],
 "metadata": {
  "interpreter": {
   "hash": "632080137b4950919e901ec2875ca4cfd726ac61d10f9ff35a9b3be3270dcac7"
  },
  "kernelspec": {
   "display_name": "Python 3.7.12 ('TF2')",
   "language": "python",
   "name": "python3"
  },
  "language_info": {
   "codemirror_mode": {
    "name": "ipython",
    "version": 3
   },
   "file_extension": ".py",
   "mimetype": "text/x-python",
   "name": "python",
   "nbconvert_exporter": "python",
   "pygments_lexer": "ipython3",
   "version": "3.7.12"
  },
  "orig_nbformat": 4
 },
 "nbformat": 4,
 "nbformat_minor": 2
}
