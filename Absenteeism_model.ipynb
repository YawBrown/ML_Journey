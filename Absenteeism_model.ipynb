{
  "nbformat": 4,
  "nbformat_minor": 0,
  "metadata": {
    "colab": {
      "provenance": []
    },
    "kernelspec": {
      "name": "python3",
      "display_name": "Python 3"
    },
    "language_info": {
      "name": "python"
    }
  },
  "cells": [
    {
      "cell_type": "code",
      "source": [
        "import pandas as pd\n",
        "import numpy as np\n",
        "import tensorflow as tf"
      ],
      "metadata": {
        "id": "MD6ymiWkrNIp"
      },
      "execution_count": null,
      "outputs": []
    },
    {
      "cell_type": "code",
      "execution_count": null,
      "metadata": {
        "id": "U7zM2PvFovzv"
      },
      "outputs": [],
      "source": [
        "data_preprocessed=pd.read_csv('Absenteeism_preprocessed.csv')"
      ]
    },
    {
      "cell_type": "code",
      "source": [
        "data_preprocessed.head()"
      ],
      "metadata": {
        "colab": {
          "base_uri": "https://localhost:8080/",
          "height": 322
        },
        "id": "wcgMjs0UraVT",
        "outputId": "281b5b39-e465-4b2e-86e6-73b6f420ce3b"
      },
      "execution_count": null,
      "outputs": [
        {
          "output_type": "execute_result",
          "data": {
            "text/plain": [
              "   Diseases  Birth_related_issues  Poisoning  Light_issues  Month_Value  \\\n",
              "0         0                     0          0             1            7   \n",
              "1         0                     0          0             0            7   \n",
              "2         0                     0          0             1            7   \n",
              "3         1                     0          0             0            7   \n",
              "4         0                     0          0             1            7   \n",
              "\n",
              "   Day of the week  Transportation Expense  Distance to Work  Age  \\\n",
              "0                1                     289                36   33   \n",
              "1                1                     118                13   50   \n",
              "2                2                     179                51   38   \n",
              "3                3                     279                 5   39   \n",
              "4                3                     289                36   33   \n",
              "\n",
              "   Daily Work Load Average  Body Mass Index  Education  Children  Pets  \\\n",
              "0                  239.554               30          0         2     1   \n",
              "1                  239.554               31          0         1     0   \n",
              "2                  239.554               31          0         0     0   \n",
              "3                  239.554               24          0         2     0   \n",
              "4                  239.554               30          0         2     1   \n",
              "\n",
              "   Absenteeism Time in Hours  \n",
              "0                          4  \n",
              "1                          0  \n",
              "2                          2  \n",
              "3                          4  \n",
              "4                          2  "
            ],
            "text/html": [
              "\n",
              "  <div id=\"df-6b526493-a1b0-427d-bd9d-8999a85effd7\">\n",
              "    <div class=\"colab-df-container\">\n",
              "      <div>\n",
              "<style scoped>\n",
              "    .dataframe tbody tr th:only-of-type {\n",
              "        vertical-align: middle;\n",
              "    }\n",
              "\n",
              "    .dataframe tbody tr th {\n",
              "        vertical-align: top;\n",
              "    }\n",
              "\n",
              "    .dataframe thead th {\n",
              "        text-align: right;\n",
              "    }\n",
              "</style>\n",
              "<table border=\"1\" class=\"dataframe\">\n",
              "  <thead>\n",
              "    <tr style=\"text-align: right;\">\n",
              "      <th></th>\n",
              "      <th>Diseases</th>\n",
              "      <th>Birth_related_issues</th>\n",
              "      <th>Poisoning</th>\n",
              "      <th>Light_issues</th>\n",
              "      <th>Month_Value</th>\n",
              "      <th>Day of the week</th>\n",
              "      <th>Transportation Expense</th>\n",
              "      <th>Distance to Work</th>\n",
              "      <th>Age</th>\n",
              "      <th>Daily Work Load Average</th>\n",
              "      <th>Body Mass Index</th>\n",
              "      <th>Education</th>\n",
              "      <th>Children</th>\n",
              "      <th>Pets</th>\n",
              "      <th>Absenteeism Time in Hours</th>\n",
              "    </tr>\n",
              "  </thead>\n",
              "  <tbody>\n",
              "    <tr>\n",
              "      <th>0</th>\n",
              "      <td>0</td>\n",
              "      <td>0</td>\n",
              "      <td>0</td>\n",
              "      <td>1</td>\n",
              "      <td>7</td>\n",
              "      <td>1</td>\n",
              "      <td>289</td>\n",
              "      <td>36</td>\n",
              "      <td>33</td>\n",
              "      <td>239.554</td>\n",
              "      <td>30</td>\n",
              "      <td>0</td>\n",
              "      <td>2</td>\n",
              "      <td>1</td>\n",
              "      <td>4</td>\n",
              "    </tr>\n",
              "    <tr>\n",
              "      <th>1</th>\n",
              "      <td>0</td>\n",
              "      <td>0</td>\n",
              "      <td>0</td>\n",
              "      <td>0</td>\n",
              "      <td>7</td>\n",
              "      <td>1</td>\n",
              "      <td>118</td>\n",
              "      <td>13</td>\n",
              "      <td>50</td>\n",
              "      <td>239.554</td>\n",
              "      <td>31</td>\n",
              "      <td>0</td>\n",
              "      <td>1</td>\n",
              "      <td>0</td>\n",
              "      <td>0</td>\n",
              "    </tr>\n",
              "    <tr>\n",
              "      <th>2</th>\n",
              "      <td>0</td>\n",
              "      <td>0</td>\n",
              "      <td>0</td>\n",
              "      <td>1</td>\n",
              "      <td>7</td>\n",
              "      <td>2</td>\n",
              "      <td>179</td>\n",
              "      <td>51</td>\n",
              "      <td>38</td>\n",
              "      <td>239.554</td>\n",
              "      <td>31</td>\n",
              "      <td>0</td>\n",
              "      <td>0</td>\n",
              "      <td>0</td>\n",
              "      <td>2</td>\n",
              "    </tr>\n",
              "    <tr>\n",
              "      <th>3</th>\n",
              "      <td>1</td>\n",
              "      <td>0</td>\n",
              "      <td>0</td>\n",
              "      <td>0</td>\n",
              "      <td>7</td>\n",
              "      <td>3</td>\n",
              "      <td>279</td>\n",
              "      <td>5</td>\n",
              "      <td>39</td>\n",
              "      <td>239.554</td>\n",
              "      <td>24</td>\n",
              "      <td>0</td>\n",
              "      <td>2</td>\n",
              "      <td>0</td>\n",
              "      <td>4</td>\n",
              "    </tr>\n",
              "    <tr>\n",
              "      <th>4</th>\n",
              "      <td>0</td>\n",
              "      <td>0</td>\n",
              "      <td>0</td>\n",
              "      <td>1</td>\n",
              "      <td>7</td>\n",
              "      <td>3</td>\n",
              "      <td>289</td>\n",
              "      <td>36</td>\n",
              "      <td>33</td>\n",
              "      <td>239.554</td>\n",
              "      <td>30</td>\n",
              "      <td>0</td>\n",
              "      <td>2</td>\n",
              "      <td>1</td>\n",
              "      <td>2</td>\n",
              "    </tr>\n",
              "  </tbody>\n",
              "</table>\n",
              "</div>\n",
              "      <button class=\"colab-df-convert\" onclick=\"convertToInteractive('df-6b526493-a1b0-427d-bd9d-8999a85effd7')\"\n",
              "              title=\"Convert this dataframe to an interactive table.\"\n",
              "              style=\"display:none;\">\n",
              "        \n",
              "  <svg xmlns=\"http://www.w3.org/2000/svg\" height=\"24px\"viewBox=\"0 0 24 24\"\n",
              "       width=\"24px\">\n",
              "    <path d=\"M0 0h24v24H0V0z\" fill=\"none\"/>\n",
              "    <path d=\"M18.56 5.44l.94 2.06.94-2.06 2.06-.94-2.06-.94-.94-2.06-.94 2.06-2.06.94zm-11 1L8.5 8.5l.94-2.06 2.06-.94-2.06-.94L8.5 2.5l-.94 2.06-2.06.94zm10 10l.94 2.06.94-2.06 2.06-.94-2.06-.94-.94-2.06-.94 2.06-2.06.94z\"/><path d=\"M17.41 7.96l-1.37-1.37c-.4-.4-.92-.59-1.43-.59-.52 0-1.04.2-1.43.59L10.3 9.45l-7.72 7.72c-.78.78-.78 2.05 0 2.83L4 21.41c.39.39.9.59 1.41.59.51 0 1.02-.2 1.41-.59l7.78-7.78 2.81-2.81c.8-.78.8-2.07 0-2.86zM5.41 20L4 18.59l7.72-7.72 1.47 1.35L5.41 20z\"/>\n",
              "  </svg>\n",
              "      </button>\n",
              "      \n",
              "  <style>\n",
              "    .colab-df-container {\n",
              "      display:flex;\n",
              "      flex-wrap:wrap;\n",
              "      gap: 12px;\n",
              "    }\n",
              "\n",
              "    .colab-df-convert {\n",
              "      background-color: #E8F0FE;\n",
              "      border: none;\n",
              "      border-radius: 50%;\n",
              "      cursor: pointer;\n",
              "      display: none;\n",
              "      fill: #1967D2;\n",
              "      height: 32px;\n",
              "      padding: 0 0 0 0;\n",
              "      width: 32px;\n",
              "    }\n",
              "\n",
              "    .colab-df-convert:hover {\n",
              "      background-color: #E2EBFA;\n",
              "      box-shadow: 0px 1px 2px rgba(60, 64, 67, 0.3), 0px 1px 3px 1px rgba(60, 64, 67, 0.15);\n",
              "      fill: #174EA6;\n",
              "    }\n",
              "\n",
              "    [theme=dark] .colab-df-convert {\n",
              "      background-color: #3B4455;\n",
              "      fill: #D2E3FC;\n",
              "    }\n",
              "\n",
              "    [theme=dark] .colab-df-convert:hover {\n",
              "      background-color: #434B5C;\n",
              "      box-shadow: 0px 1px 3px 1px rgba(0, 0, 0, 0.15);\n",
              "      filter: drop-shadow(0px 1px 2px rgba(0, 0, 0, 0.3));\n",
              "      fill: #FFFFFF;\n",
              "    }\n",
              "  </style>\n",
              "\n",
              "      <script>\n",
              "        const buttonEl =\n",
              "          document.querySelector('#df-6b526493-a1b0-427d-bd9d-8999a85effd7 button.colab-df-convert');\n",
              "        buttonEl.style.display =\n",
              "          google.colab.kernel.accessAllowed ? 'block' : 'none';\n",
              "\n",
              "        async function convertToInteractive(key) {\n",
              "          const element = document.querySelector('#df-6b526493-a1b0-427d-bd9d-8999a85effd7');\n",
              "          const dataTable =\n",
              "            await google.colab.kernel.invokeFunction('convertToInteractive',\n",
              "                                                     [key], {});\n",
              "          if (!dataTable) return;\n",
              "\n",
              "          const docLinkHtml = 'Like what you see? Visit the ' +\n",
              "            '<a target=\"_blank\" href=https://colab.research.google.com/notebooks/data_table.ipynb>data table notebook</a>'\n",
              "            + ' to learn more about interactive tables.';\n",
              "          element.innerHTML = '';\n",
              "          dataTable['output_type'] = 'display_data';\n",
              "          await google.colab.output.renderOutput(dataTable, element);\n",
              "          const docLink = document.createElement('div');\n",
              "          docLink.innerHTML = docLinkHtml;\n",
              "          element.appendChild(docLink);\n",
              "        }\n",
              "      </script>\n",
              "    </div>\n",
              "  </div>\n",
              "  "
            ]
          },
          "metadata": {},
          "execution_count": 3
        }
      ]
    },
    {
      "cell_type": "markdown",
      "source": [
        "CREATE TARGETS"
      ],
      "metadata": {
        "id": "ULiWnlr7r6Yp"
      }
    },
    {
      "cell_type": "code",
      "source": [
        "data_preprocessed['Absenteeism Time in Hours'].median()"
      ],
      "metadata": {
        "colab": {
          "base_uri": "https://localhost:8080/"
        },
        "id": "IxABv-Qqr9so",
        "outputId": "f401ddc6-50df-421e-ff75-b8f7f6fea751"
      },
      "execution_count": null,
      "outputs": [
        {
          "output_type": "execute_result",
          "data": {
            "text/plain": [
              "3.0"
            ]
          },
          "metadata": {},
          "execution_count": 4
        }
      ]
    },
    {
      "cell_type": "code",
      "source": [
        "def replacer(number):\n",
        "  if number>data_preprocessed['Absenteeism Time in Hours'].median():\n",
        "    a=1\n",
        "  else:\n",
        "    a=0\n",
        "  return a"
      ],
      "metadata": {
        "id": "VSmzjX_ZxbG-"
      },
      "execution_count": null,
      "outputs": []
    },
    {
      "cell_type": "code",
      "source": [
        "data_preprocessed['Excessive Absenteeism']=data_preprocessed['Absenteeism Time in Hours'].apply(replacer)"
      ],
      "metadata": {
        "id": "eBANMO6K0nsr"
      },
      "execution_count": null,
      "outputs": []
    },
    {
      "cell_type": "code",
      "source": [
        "data_preprocessed.head()"
      ],
      "metadata": {
        "colab": {
          "base_uri": "https://localhost:8080/",
          "height": 322
        },
        "id": "n46r0GzHo2V-",
        "outputId": "3a51e369-2670-47ae-9d28-3533bd4517e5"
      },
      "execution_count": null,
      "outputs": [
        {
          "output_type": "execute_result",
          "data": {
            "text/plain": [
              "   Diseases  Birth_related_issues  Poisoning  Light_issues  Month_Value  \\\n",
              "0         0                     0          0             1            7   \n",
              "1         0                     0          0             0            7   \n",
              "2         0                     0          0             1            7   \n",
              "3         1                     0          0             0            7   \n",
              "4         0                     0          0             1            7   \n",
              "\n",
              "   Day of the week  Transportation Expense  Distance to Work  Age  \\\n",
              "0                1                     289                36   33   \n",
              "1                1                     118                13   50   \n",
              "2                2                     179                51   38   \n",
              "3                3                     279                 5   39   \n",
              "4                3                     289                36   33   \n",
              "\n",
              "   Daily Work Load Average  Body Mass Index  Education  Children  Pets  \\\n",
              "0                  239.554               30          0         2     1   \n",
              "1                  239.554               31          0         1     0   \n",
              "2                  239.554               31          0         0     0   \n",
              "3                  239.554               24          0         2     0   \n",
              "4                  239.554               30          0         2     1   \n",
              "\n",
              "   Absenteeism Time in Hours  Excessive Absenteeism  \n",
              "0                          4                      1  \n",
              "1                          0                      0  \n",
              "2                          2                      0  \n",
              "3                          4                      1  \n",
              "4                          2                      0  "
            ],
            "text/html": [
              "\n",
              "  <div id=\"df-4f59853d-f3d9-4407-9c4b-ae4a03a7d82b\">\n",
              "    <div class=\"colab-df-container\">\n",
              "      <div>\n",
              "<style scoped>\n",
              "    .dataframe tbody tr th:only-of-type {\n",
              "        vertical-align: middle;\n",
              "    }\n",
              "\n",
              "    .dataframe tbody tr th {\n",
              "        vertical-align: top;\n",
              "    }\n",
              "\n",
              "    .dataframe thead th {\n",
              "        text-align: right;\n",
              "    }\n",
              "</style>\n",
              "<table border=\"1\" class=\"dataframe\">\n",
              "  <thead>\n",
              "    <tr style=\"text-align: right;\">\n",
              "      <th></th>\n",
              "      <th>Diseases</th>\n",
              "      <th>Birth_related_issues</th>\n",
              "      <th>Poisoning</th>\n",
              "      <th>Light_issues</th>\n",
              "      <th>Month_Value</th>\n",
              "      <th>Day of the week</th>\n",
              "      <th>Transportation Expense</th>\n",
              "      <th>Distance to Work</th>\n",
              "      <th>Age</th>\n",
              "      <th>Daily Work Load Average</th>\n",
              "      <th>Body Mass Index</th>\n",
              "      <th>Education</th>\n",
              "      <th>Children</th>\n",
              "      <th>Pets</th>\n",
              "      <th>Absenteeism Time in Hours</th>\n",
              "      <th>Excessive Absenteeism</th>\n",
              "    </tr>\n",
              "  </thead>\n",
              "  <tbody>\n",
              "    <tr>\n",
              "      <th>0</th>\n",
              "      <td>0</td>\n",
              "      <td>0</td>\n",
              "      <td>0</td>\n",
              "      <td>1</td>\n",
              "      <td>7</td>\n",
              "      <td>1</td>\n",
              "      <td>289</td>\n",
              "      <td>36</td>\n",
              "      <td>33</td>\n",
              "      <td>239.554</td>\n",
              "      <td>30</td>\n",
              "      <td>0</td>\n",
              "      <td>2</td>\n",
              "      <td>1</td>\n",
              "      <td>4</td>\n",
              "      <td>1</td>\n",
              "    </tr>\n",
              "    <tr>\n",
              "      <th>1</th>\n",
              "      <td>0</td>\n",
              "      <td>0</td>\n",
              "      <td>0</td>\n",
              "      <td>0</td>\n",
              "      <td>7</td>\n",
              "      <td>1</td>\n",
              "      <td>118</td>\n",
              "      <td>13</td>\n",
              "      <td>50</td>\n",
              "      <td>239.554</td>\n",
              "      <td>31</td>\n",
              "      <td>0</td>\n",
              "      <td>1</td>\n",
              "      <td>0</td>\n",
              "      <td>0</td>\n",
              "      <td>0</td>\n",
              "    </tr>\n",
              "    <tr>\n",
              "      <th>2</th>\n",
              "      <td>0</td>\n",
              "      <td>0</td>\n",
              "      <td>0</td>\n",
              "      <td>1</td>\n",
              "      <td>7</td>\n",
              "      <td>2</td>\n",
              "      <td>179</td>\n",
              "      <td>51</td>\n",
              "      <td>38</td>\n",
              "      <td>239.554</td>\n",
              "      <td>31</td>\n",
              "      <td>0</td>\n",
              "      <td>0</td>\n",
              "      <td>0</td>\n",
              "      <td>2</td>\n",
              "      <td>0</td>\n",
              "    </tr>\n",
              "    <tr>\n",
              "      <th>3</th>\n",
              "      <td>1</td>\n",
              "      <td>0</td>\n",
              "      <td>0</td>\n",
              "      <td>0</td>\n",
              "      <td>7</td>\n",
              "      <td>3</td>\n",
              "      <td>279</td>\n",
              "      <td>5</td>\n",
              "      <td>39</td>\n",
              "      <td>239.554</td>\n",
              "      <td>24</td>\n",
              "      <td>0</td>\n",
              "      <td>2</td>\n",
              "      <td>0</td>\n",
              "      <td>4</td>\n",
              "      <td>1</td>\n",
              "    </tr>\n",
              "    <tr>\n",
              "      <th>4</th>\n",
              "      <td>0</td>\n",
              "      <td>0</td>\n",
              "      <td>0</td>\n",
              "      <td>1</td>\n",
              "      <td>7</td>\n",
              "      <td>3</td>\n",
              "      <td>289</td>\n",
              "      <td>36</td>\n",
              "      <td>33</td>\n",
              "      <td>239.554</td>\n",
              "      <td>30</td>\n",
              "      <td>0</td>\n",
              "      <td>2</td>\n",
              "      <td>1</td>\n",
              "      <td>2</td>\n",
              "      <td>0</td>\n",
              "    </tr>\n",
              "  </tbody>\n",
              "</table>\n",
              "</div>\n",
              "      <button class=\"colab-df-convert\" onclick=\"convertToInteractive('df-4f59853d-f3d9-4407-9c4b-ae4a03a7d82b')\"\n",
              "              title=\"Convert this dataframe to an interactive table.\"\n",
              "              style=\"display:none;\">\n",
              "        \n",
              "  <svg xmlns=\"http://www.w3.org/2000/svg\" height=\"24px\"viewBox=\"0 0 24 24\"\n",
              "       width=\"24px\">\n",
              "    <path d=\"M0 0h24v24H0V0z\" fill=\"none\"/>\n",
              "    <path d=\"M18.56 5.44l.94 2.06.94-2.06 2.06-.94-2.06-.94-.94-2.06-.94 2.06-2.06.94zm-11 1L8.5 8.5l.94-2.06 2.06-.94-2.06-.94L8.5 2.5l-.94 2.06-2.06.94zm10 10l.94 2.06.94-2.06 2.06-.94-2.06-.94-.94-2.06-.94 2.06-2.06.94z\"/><path d=\"M17.41 7.96l-1.37-1.37c-.4-.4-.92-.59-1.43-.59-.52 0-1.04.2-1.43.59L10.3 9.45l-7.72 7.72c-.78.78-.78 2.05 0 2.83L4 21.41c.39.39.9.59 1.41.59.51 0 1.02-.2 1.41-.59l7.78-7.78 2.81-2.81c.8-.78.8-2.07 0-2.86zM5.41 20L4 18.59l7.72-7.72 1.47 1.35L5.41 20z\"/>\n",
              "  </svg>\n",
              "      </button>\n",
              "      \n",
              "  <style>\n",
              "    .colab-df-container {\n",
              "      display:flex;\n",
              "      flex-wrap:wrap;\n",
              "      gap: 12px;\n",
              "    }\n",
              "\n",
              "    .colab-df-convert {\n",
              "      background-color: #E8F0FE;\n",
              "      border: none;\n",
              "      border-radius: 50%;\n",
              "      cursor: pointer;\n",
              "      display: none;\n",
              "      fill: #1967D2;\n",
              "      height: 32px;\n",
              "      padding: 0 0 0 0;\n",
              "      width: 32px;\n",
              "    }\n",
              "\n",
              "    .colab-df-convert:hover {\n",
              "      background-color: #E2EBFA;\n",
              "      box-shadow: 0px 1px 2px rgba(60, 64, 67, 0.3), 0px 1px 3px 1px rgba(60, 64, 67, 0.15);\n",
              "      fill: #174EA6;\n",
              "    }\n",
              "\n",
              "    [theme=dark] .colab-df-convert {\n",
              "      background-color: #3B4455;\n",
              "      fill: #D2E3FC;\n",
              "    }\n",
              "\n",
              "    [theme=dark] .colab-df-convert:hover {\n",
              "      background-color: #434B5C;\n",
              "      box-shadow: 0px 1px 3px 1px rgba(0, 0, 0, 0.15);\n",
              "      filter: drop-shadow(0px 1px 2px rgba(0, 0, 0, 0.3));\n",
              "      fill: #FFFFFF;\n",
              "    }\n",
              "  </style>\n",
              "\n",
              "      <script>\n",
              "        const buttonEl =\n",
              "          document.querySelector('#df-4f59853d-f3d9-4407-9c4b-ae4a03a7d82b button.colab-df-convert');\n",
              "        buttonEl.style.display =\n",
              "          google.colab.kernel.accessAllowed ? 'block' : 'none';\n",
              "\n",
              "        async function convertToInteractive(key) {\n",
              "          const element = document.querySelector('#df-4f59853d-f3d9-4407-9c4b-ae4a03a7d82b');\n",
              "          const dataTable =\n",
              "            await google.colab.kernel.invokeFunction('convertToInteractive',\n",
              "                                                     [key], {});\n",
              "          if (!dataTable) return;\n",
              "\n",
              "          const docLinkHtml = 'Like what you see? Visit the ' +\n",
              "            '<a target=\"_blank\" href=https://colab.research.google.com/notebooks/data_table.ipynb>data table notebook</a>'\n",
              "            + ' to learn more about interactive tables.';\n",
              "          element.innerHTML = '';\n",
              "          dataTable['output_type'] = 'display_data';\n",
              "          await google.colab.output.renderOutput(dataTable, element);\n",
              "          const docLink = document.createElement('div');\n",
              "          docLink.innerHTML = docLinkHtml;\n",
              "          element.appendChild(docLink);\n",
              "        }\n",
              "      </script>\n",
              "    </div>\n",
              "  </div>\n",
              "  "
            ]
          },
          "metadata": {},
          "execution_count": 7
        }
      ]
    },
    {
      "cell_type": "code",
      "source": [
        "#Always import to have a balanced dataset.\n",
        "#Another way to get the targets table.\n",
        "#targets= np.where(data_preprocessed['Absenteeism Time in Hours'] >\n",
        "#data_preprocessed['Absenteeism Time in Hours'].median(),1,0)"
      ],
      "metadata": {
        "id": "DFFqjCInqK4F"
      },
      "execution_count": null,
      "outputs": []
    },
    {
      "cell_type": "code",
      "source": [
        "data_with_targets= data_preprocessed.drop(['Absenteeism Time in Hours','Day of the week','Daily Work Load Average','Distance to Work'],axis=1)"
      ],
      "metadata": {
        "id": "1OdkaHoftQeq"
      },
      "execution_count": null,
      "outputs": []
    },
    {
      "cell_type": "code",
      "source": [
        "unscaled_inputs=data_with_targets.iloc[:,:-1]"
      ],
      "metadata": {
        "id": "eCZcEXCtt-yN"
      },
      "execution_count": null,
      "outputs": []
    },
    {
      "cell_type": "code",
      "source": [
        "from sklearn.preprocessing import StandardScaler\n",
        "\n",
        "absenteeism_scalar = StandardScaler()"
      ],
      "metadata": {
        "id": "PXw9c7oawIO5"
      },
      "execution_count": null,
      "outputs": []
    },
    {
      "cell_type": "code",
      "source": [
        "absenteeism_scalar.fit(unscaled_inputs)"
      ],
      "metadata": {
        "colab": {
          "base_uri": "https://localhost:8080/"
        },
        "id": "Kf3XHBChXmun",
        "outputId": "134dc688-ab7c-4fb9-bef7-b434aaec0a01"
      },
      "execution_count": null,
      "outputs": [
        {
          "output_type": "execute_result",
          "data": {
            "text/plain": [
              "StandardScaler()"
            ]
          },
          "metadata": {},
          "execution_count": 12
        }
      ]
    },
    {
      "cell_type": "code",
      "source": [
        "\n",
        "scaled_inputs=absenteeism_scalar.transform(unscaled_inputs)"
      ],
      "metadata": {
        "id": "olHOi0wpwsQK"
      },
      "execution_count": null,
      "outputs": []
    },
    {
      "cell_type": "code",
      "source": [
        "targets=data_with_targets.iloc[:,-1]"
      ],
      "metadata": {
        "id": "6dKQ09DVyXej"
      },
      "execution_count": null,
      "outputs": []
    },
    {
      "cell_type": "code",
      "source": [
        "targets"
      ],
      "metadata": {
        "colab": {
          "base_uri": "https://localhost:8080/"
        },
        "id": "2nkDMF_tynOJ",
        "outputId": "758ebe69-5d10-44c6-de15-6418059f6093"
      },
      "execution_count": null,
      "outputs": [
        {
          "output_type": "execute_result",
          "data": {
            "text/plain": [
              "0      1\n",
              "1      0\n",
              "2      0\n",
              "3      1\n",
              "4      0\n",
              "      ..\n",
              "695    1\n",
              "696    0\n",
              "697    1\n",
              "698    0\n",
              "699    0\n",
              "Name: Excessive Absenteeism, Length: 700, dtype: int64"
            ]
          },
          "metadata": {},
          "execution_count": 15
        }
      ]
    },
    {
      "cell_type": "markdown",
      "source": [
        "SPLITTING THE TESTING THE DATA"
      ],
      "metadata": {
        "id": "rYp-uMtBxr8j"
      }
    },
    {
      "cell_type": "code",
      "source": [
        "from sklearn.model_selection import train_test_split"
      ],
      "metadata": {
        "id": "Tdt7ln71xzen"
      },
      "execution_count": null,
      "outputs": []
    },
    {
      "cell_type": "code",
      "source": [
        "x_train, x_test, y_train, y_test = train_test_split(scaled_inputs,targets, train_size=0.8,random_state=20)"
      ],
      "metadata": {
        "id": "Iv6r5Kfwy3pe"
      },
      "execution_count": null,
      "outputs": []
    },
    {
      "cell_type": "markdown",
      "source": [
        "LOGISTIC REGRESSION WITH SKLEARN"
      ],
      "metadata": {
        "id": "YF71ObjX82fq"
      }
    },
    {
      "cell_type": "code",
      "source": [
        "from sklearn.linear_model import LogisticRegression\n",
        "from sklearn import metrics"
      ],
      "metadata": {
        "id": "MemzK5VY8_iK"
      },
      "execution_count": null,
      "outputs": []
    },
    {
      "cell_type": "code",
      "source": [
        "reg = LogisticRegression()\n"
      ],
      "metadata": {
        "id": "tKx3IqcL-DlQ"
      },
      "execution_count": null,
      "outputs": []
    },
    {
      "cell_type": "code",
      "source": [
        "reg.fit(x_train,y_train)"
      ],
      "metadata": {
        "colab": {
          "base_uri": "https://localhost:8080/"
        },
        "id": "JAcdDsOe5Oqe",
        "outputId": "6bd81ad6-24e9-4768-e485-180fb3562c23"
      },
      "execution_count": null,
      "outputs": [
        {
          "output_type": "execute_result",
          "data": {
            "text/plain": [
              "LogisticRegression()"
            ]
          },
          "metadata": {},
          "execution_count": 20
        }
      ]
    },
    {
      "cell_type": "code",
      "source": [
        "reg.score(x_train,y_train)"
      ],
      "metadata": {
        "colab": {
          "base_uri": "https://localhost:8080/"
        },
        "id": "rUdAkhR4-ejg",
        "outputId": "67f84a83-b743-4e60-98ab-90091f52e813"
      },
      "execution_count": null,
      "outputs": [
        {
          "output_type": "execute_result",
          "data": {
            "text/plain": [
              "0.7839285714285714"
            ]
          },
          "metadata": {},
          "execution_count": 21
        }
      ]
    },
    {
      "cell_type": "code",
      "source": [
        "feature_name=unscaled_inputs.columns.values"
      ],
      "metadata": {
        "id": "Oh1E-0NZBOOm"
      },
      "execution_count": null,
      "outputs": []
    },
    {
      "cell_type": "code",
      "source": [
        "#A way to create a dataframe in python\n",
        "summary_table= pd.DataFrame (columns=['Feature name'], data = feature_name)"
      ],
      "metadata": {
        "id": "dnqW96zSBgrW"
      },
      "execution_count": null,
      "outputs": []
    },
    {
      "cell_type": "code",
      "source": [
        "summary_table['Coefficient']=np.transpose(reg.coef_)"
      ],
      "metadata": {
        "id": "9ZJylKg_B3zR"
      },
      "execution_count": null,
      "outputs": []
    },
    {
      "cell_type": "code",
      "source": [
        "summary_table"
      ],
      "metadata": {
        "colab": {
          "base_uri": "https://localhost:8080/",
          "height": 394
        },
        "id": "meHis81kBWWb",
        "outputId": "6a8d422e-d17a-4d77-aca1-7d74c5dd9a63"
      },
      "execution_count": null,
      "outputs": [
        {
          "output_type": "execute_result",
          "data": {
            "text/plain": [
              "              Feature name  Coefficient\n",
              "0                 Diseases     2.069521\n",
              "1     Birth_related_issues     0.335811\n",
              "2                Poisoning     1.562039\n",
              "3             Light_issues     1.312780\n",
              "4              Month_Value     0.184698\n",
              "5   Transportation Expense     0.691262\n",
              "6                      Age    -0.198283\n",
              "7          Body Mass Index     0.324360\n",
              "8                Education    -0.126656\n",
              "9                 Children     0.370177\n",
              "10                    Pets    -0.325359"
            ],
            "text/html": [
              "\n",
              "  <div id=\"df-aa0302d1-e642-4ae8-ab60-23594688f962\">\n",
              "    <div class=\"colab-df-container\">\n",
              "      <div>\n",
              "<style scoped>\n",
              "    .dataframe tbody tr th:only-of-type {\n",
              "        vertical-align: middle;\n",
              "    }\n",
              "\n",
              "    .dataframe tbody tr th {\n",
              "        vertical-align: top;\n",
              "    }\n",
              "\n",
              "    .dataframe thead th {\n",
              "        text-align: right;\n",
              "    }\n",
              "</style>\n",
              "<table border=\"1\" class=\"dataframe\">\n",
              "  <thead>\n",
              "    <tr style=\"text-align: right;\">\n",
              "      <th></th>\n",
              "      <th>Feature name</th>\n",
              "      <th>Coefficient</th>\n",
              "    </tr>\n",
              "  </thead>\n",
              "  <tbody>\n",
              "    <tr>\n",
              "      <th>0</th>\n",
              "      <td>Diseases</td>\n",
              "      <td>2.069521</td>\n",
              "    </tr>\n",
              "    <tr>\n",
              "      <th>1</th>\n",
              "      <td>Birth_related_issues</td>\n",
              "      <td>0.335811</td>\n",
              "    </tr>\n",
              "    <tr>\n",
              "      <th>2</th>\n",
              "      <td>Poisoning</td>\n",
              "      <td>1.562039</td>\n",
              "    </tr>\n",
              "    <tr>\n",
              "      <th>3</th>\n",
              "      <td>Light_issues</td>\n",
              "      <td>1.312780</td>\n",
              "    </tr>\n",
              "    <tr>\n",
              "      <th>4</th>\n",
              "      <td>Month_Value</td>\n",
              "      <td>0.184698</td>\n",
              "    </tr>\n",
              "    <tr>\n",
              "      <th>5</th>\n",
              "      <td>Transportation Expense</td>\n",
              "      <td>0.691262</td>\n",
              "    </tr>\n",
              "    <tr>\n",
              "      <th>6</th>\n",
              "      <td>Age</td>\n",
              "      <td>-0.198283</td>\n",
              "    </tr>\n",
              "    <tr>\n",
              "      <th>7</th>\n",
              "      <td>Body Mass Index</td>\n",
              "      <td>0.324360</td>\n",
              "    </tr>\n",
              "    <tr>\n",
              "      <th>8</th>\n",
              "      <td>Education</td>\n",
              "      <td>-0.126656</td>\n",
              "    </tr>\n",
              "    <tr>\n",
              "      <th>9</th>\n",
              "      <td>Children</td>\n",
              "      <td>0.370177</td>\n",
              "    </tr>\n",
              "    <tr>\n",
              "      <th>10</th>\n",
              "      <td>Pets</td>\n",
              "      <td>-0.325359</td>\n",
              "    </tr>\n",
              "  </tbody>\n",
              "</table>\n",
              "</div>\n",
              "      <button class=\"colab-df-convert\" onclick=\"convertToInteractive('df-aa0302d1-e642-4ae8-ab60-23594688f962')\"\n",
              "              title=\"Convert this dataframe to an interactive table.\"\n",
              "              style=\"display:none;\">\n",
              "        \n",
              "  <svg xmlns=\"http://www.w3.org/2000/svg\" height=\"24px\"viewBox=\"0 0 24 24\"\n",
              "       width=\"24px\">\n",
              "    <path d=\"M0 0h24v24H0V0z\" fill=\"none\"/>\n",
              "    <path d=\"M18.56 5.44l.94 2.06.94-2.06 2.06-.94-2.06-.94-.94-2.06-.94 2.06-2.06.94zm-11 1L8.5 8.5l.94-2.06 2.06-.94-2.06-.94L8.5 2.5l-.94 2.06-2.06.94zm10 10l.94 2.06.94-2.06 2.06-.94-2.06-.94-.94-2.06-.94 2.06-2.06.94z\"/><path d=\"M17.41 7.96l-1.37-1.37c-.4-.4-.92-.59-1.43-.59-.52 0-1.04.2-1.43.59L10.3 9.45l-7.72 7.72c-.78.78-.78 2.05 0 2.83L4 21.41c.39.39.9.59 1.41.59.51 0 1.02-.2 1.41-.59l7.78-7.78 2.81-2.81c.8-.78.8-2.07 0-2.86zM5.41 20L4 18.59l7.72-7.72 1.47 1.35L5.41 20z\"/>\n",
              "  </svg>\n",
              "      </button>\n",
              "      \n",
              "  <style>\n",
              "    .colab-df-container {\n",
              "      display:flex;\n",
              "      flex-wrap:wrap;\n",
              "      gap: 12px;\n",
              "    }\n",
              "\n",
              "    .colab-df-convert {\n",
              "      background-color: #E8F0FE;\n",
              "      border: none;\n",
              "      border-radius: 50%;\n",
              "      cursor: pointer;\n",
              "      display: none;\n",
              "      fill: #1967D2;\n",
              "      height: 32px;\n",
              "      padding: 0 0 0 0;\n",
              "      width: 32px;\n",
              "    }\n",
              "\n",
              "    .colab-df-convert:hover {\n",
              "      background-color: #E2EBFA;\n",
              "      box-shadow: 0px 1px 2px rgba(60, 64, 67, 0.3), 0px 1px 3px 1px rgba(60, 64, 67, 0.15);\n",
              "      fill: #174EA6;\n",
              "    }\n",
              "\n",
              "    [theme=dark] .colab-df-convert {\n",
              "      background-color: #3B4455;\n",
              "      fill: #D2E3FC;\n",
              "    }\n",
              "\n",
              "    [theme=dark] .colab-df-convert:hover {\n",
              "      background-color: #434B5C;\n",
              "      box-shadow: 0px 1px 3px 1px rgba(0, 0, 0, 0.15);\n",
              "      filter: drop-shadow(0px 1px 2px rgba(0, 0, 0, 0.3));\n",
              "      fill: #FFFFFF;\n",
              "    }\n",
              "  </style>\n",
              "\n",
              "      <script>\n",
              "        const buttonEl =\n",
              "          document.querySelector('#df-aa0302d1-e642-4ae8-ab60-23594688f962 button.colab-df-convert');\n",
              "        buttonEl.style.display =\n",
              "          google.colab.kernel.accessAllowed ? 'block' : 'none';\n",
              "\n",
              "        async function convertToInteractive(key) {\n",
              "          const element = document.querySelector('#df-aa0302d1-e642-4ae8-ab60-23594688f962');\n",
              "          const dataTable =\n",
              "            await google.colab.kernel.invokeFunction('convertToInteractive',\n",
              "                                                     [key], {});\n",
              "          if (!dataTable) return;\n",
              "\n",
              "          const docLinkHtml = 'Like what you see? Visit the ' +\n",
              "            '<a target=\"_blank\" href=https://colab.research.google.com/notebooks/data_table.ipynb>data table notebook</a>'\n",
              "            + ' to learn more about interactive tables.';\n",
              "          element.innerHTML = '';\n",
              "          dataTable['output_type'] = 'display_data';\n",
              "          await google.colab.output.renderOutput(dataTable, element);\n",
              "          const docLink = document.createElement('div');\n",
              "          docLink.innerHTML = docLinkHtml;\n",
              "          element.appendChild(docLink);\n",
              "        }\n",
              "      </script>\n",
              "    </div>\n",
              "  </div>\n",
              "  "
            ]
          },
          "metadata": {},
          "execution_count": 25
        }
      ]
    },
    {
      "cell_type": "code",
      "source": [
        "#Adding the intercept to the table.\n",
        "summary_table.index = summary_table.index + 1\n",
        "summary_table.loc[0] = ['Intercept',reg.intercept_[0]]\n",
        "summary_table = summary_table.sort_index()\n",
        "summary_table"
      ],
      "metadata": {
        "colab": {
          "base_uri": "https://localhost:8080/",
          "height": 425
        },
        "id": "nRfScARZFqwV",
        "outputId": "8e2d2ea0-0b75-4534-fe03-e40d2433db2c"
      },
      "execution_count": null,
      "outputs": [
        {
          "output_type": "execute_result",
          "data": {
            "text/plain": [
              "              Feature name  Coefficient\n",
              "0                Intercept    -0.223756\n",
              "1                 Diseases     2.069521\n",
              "2     Birth_related_issues     0.335811\n",
              "3                Poisoning     1.562039\n",
              "4             Light_issues     1.312780\n",
              "5              Month_Value     0.184698\n",
              "6   Transportation Expense     0.691262\n",
              "7                      Age    -0.198283\n",
              "8          Body Mass Index     0.324360\n",
              "9                Education    -0.126656\n",
              "10                Children     0.370177\n",
              "11                    Pets    -0.325359"
            ],
            "text/html": [
              "\n",
              "  <div id=\"df-8e98f3e6-4272-493e-aa03-b7fcb9d470ba\">\n",
              "    <div class=\"colab-df-container\">\n",
              "      <div>\n",
              "<style scoped>\n",
              "    .dataframe tbody tr th:only-of-type {\n",
              "        vertical-align: middle;\n",
              "    }\n",
              "\n",
              "    .dataframe tbody tr th {\n",
              "        vertical-align: top;\n",
              "    }\n",
              "\n",
              "    .dataframe thead th {\n",
              "        text-align: right;\n",
              "    }\n",
              "</style>\n",
              "<table border=\"1\" class=\"dataframe\">\n",
              "  <thead>\n",
              "    <tr style=\"text-align: right;\">\n",
              "      <th></th>\n",
              "      <th>Feature name</th>\n",
              "      <th>Coefficient</th>\n",
              "    </tr>\n",
              "  </thead>\n",
              "  <tbody>\n",
              "    <tr>\n",
              "      <th>0</th>\n",
              "      <td>Intercept</td>\n",
              "      <td>-0.223756</td>\n",
              "    </tr>\n",
              "    <tr>\n",
              "      <th>1</th>\n",
              "      <td>Diseases</td>\n",
              "      <td>2.069521</td>\n",
              "    </tr>\n",
              "    <tr>\n",
              "      <th>2</th>\n",
              "      <td>Birth_related_issues</td>\n",
              "      <td>0.335811</td>\n",
              "    </tr>\n",
              "    <tr>\n",
              "      <th>3</th>\n",
              "      <td>Poisoning</td>\n",
              "      <td>1.562039</td>\n",
              "    </tr>\n",
              "    <tr>\n",
              "      <th>4</th>\n",
              "      <td>Light_issues</td>\n",
              "      <td>1.312780</td>\n",
              "    </tr>\n",
              "    <tr>\n",
              "      <th>5</th>\n",
              "      <td>Month_Value</td>\n",
              "      <td>0.184698</td>\n",
              "    </tr>\n",
              "    <tr>\n",
              "      <th>6</th>\n",
              "      <td>Transportation Expense</td>\n",
              "      <td>0.691262</td>\n",
              "    </tr>\n",
              "    <tr>\n",
              "      <th>7</th>\n",
              "      <td>Age</td>\n",
              "      <td>-0.198283</td>\n",
              "    </tr>\n",
              "    <tr>\n",
              "      <th>8</th>\n",
              "      <td>Body Mass Index</td>\n",
              "      <td>0.324360</td>\n",
              "    </tr>\n",
              "    <tr>\n",
              "      <th>9</th>\n",
              "      <td>Education</td>\n",
              "      <td>-0.126656</td>\n",
              "    </tr>\n",
              "    <tr>\n",
              "      <th>10</th>\n",
              "      <td>Children</td>\n",
              "      <td>0.370177</td>\n",
              "    </tr>\n",
              "    <tr>\n",
              "      <th>11</th>\n",
              "      <td>Pets</td>\n",
              "      <td>-0.325359</td>\n",
              "    </tr>\n",
              "  </tbody>\n",
              "</table>\n",
              "</div>\n",
              "      <button class=\"colab-df-convert\" onclick=\"convertToInteractive('df-8e98f3e6-4272-493e-aa03-b7fcb9d470ba')\"\n",
              "              title=\"Convert this dataframe to an interactive table.\"\n",
              "              style=\"display:none;\">\n",
              "        \n",
              "  <svg xmlns=\"http://www.w3.org/2000/svg\" height=\"24px\"viewBox=\"0 0 24 24\"\n",
              "       width=\"24px\">\n",
              "    <path d=\"M0 0h24v24H0V0z\" fill=\"none\"/>\n",
              "    <path d=\"M18.56 5.44l.94 2.06.94-2.06 2.06-.94-2.06-.94-.94-2.06-.94 2.06-2.06.94zm-11 1L8.5 8.5l.94-2.06 2.06-.94-2.06-.94L8.5 2.5l-.94 2.06-2.06.94zm10 10l.94 2.06.94-2.06 2.06-.94-2.06-.94-.94-2.06-.94 2.06-2.06.94z\"/><path d=\"M17.41 7.96l-1.37-1.37c-.4-.4-.92-.59-1.43-.59-.52 0-1.04.2-1.43.59L10.3 9.45l-7.72 7.72c-.78.78-.78 2.05 0 2.83L4 21.41c.39.39.9.59 1.41.59.51 0 1.02-.2 1.41-.59l7.78-7.78 2.81-2.81c.8-.78.8-2.07 0-2.86zM5.41 20L4 18.59l7.72-7.72 1.47 1.35L5.41 20z\"/>\n",
              "  </svg>\n",
              "      </button>\n",
              "      \n",
              "  <style>\n",
              "    .colab-df-container {\n",
              "      display:flex;\n",
              "      flex-wrap:wrap;\n",
              "      gap: 12px;\n",
              "    }\n",
              "\n",
              "    .colab-df-convert {\n",
              "      background-color: #E8F0FE;\n",
              "      border: none;\n",
              "      border-radius: 50%;\n",
              "      cursor: pointer;\n",
              "      display: none;\n",
              "      fill: #1967D2;\n",
              "      height: 32px;\n",
              "      padding: 0 0 0 0;\n",
              "      width: 32px;\n",
              "    }\n",
              "\n",
              "    .colab-df-convert:hover {\n",
              "      background-color: #E2EBFA;\n",
              "      box-shadow: 0px 1px 2px rgba(60, 64, 67, 0.3), 0px 1px 3px 1px rgba(60, 64, 67, 0.15);\n",
              "      fill: #174EA6;\n",
              "    }\n",
              "\n",
              "    [theme=dark] .colab-df-convert {\n",
              "      background-color: #3B4455;\n",
              "      fill: #D2E3FC;\n",
              "    }\n",
              "\n",
              "    [theme=dark] .colab-df-convert:hover {\n",
              "      background-color: #434B5C;\n",
              "      box-shadow: 0px 1px 3px 1px rgba(0, 0, 0, 0.15);\n",
              "      filter: drop-shadow(0px 1px 2px rgba(0, 0, 0, 0.3));\n",
              "      fill: #FFFFFF;\n",
              "    }\n",
              "  </style>\n",
              "\n",
              "      <script>\n",
              "        const buttonEl =\n",
              "          document.querySelector('#df-8e98f3e6-4272-493e-aa03-b7fcb9d470ba button.colab-df-convert');\n",
              "        buttonEl.style.display =\n",
              "          google.colab.kernel.accessAllowed ? 'block' : 'none';\n",
              "\n",
              "        async function convertToInteractive(key) {\n",
              "          const element = document.querySelector('#df-8e98f3e6-4272-493e-aa03-b7fcb9d470ba');\n",
              "          const dataTable =\n",
              "            await google.colab.kernel.invokeFunction('convertToInteractive',\n",
              "                                                     [key], {});\n",
              "          if (!dataTable) return;\n",
              "\n",
              "          const docLinkHtml = 'Like what you see? Visit the ' +\n",
              "            '<a target=\"_blank\" href=https://colab.research.google.com/notebooks/data_table.ipynb>data table notebook</a>'\n",
              "            + ' to learn more about interactive tables.';\n",
              "          element.innerHTML = '';\n",
              "          dataTable['output_type'] = 'display_data';\n",
              "          await google.colab.output.renderOutput(dataTable, element);\n",
              "          const docLink = document.createElement('div');\n",
              "          docLink.innerHTML = docLinkHtml;\n",
              "          element.appendChild(docLink);\n",
              "        }\n",
              "      </script>\n",
              "    </div>\n",
              "  </div>\n",
              "  "
            ]
          },
          "metadata": {},
          "execution_count": 26
        }
      ]
    },
    {
      "cell_type": "code",
      "source": [
        "#Standardized coefficients are basically the coefficients of a regression where all variables have been standardized\n",
        "#Not a good idea to scale dummy variables.\n"
      ],
      "metadata": {
        "id": "oqk28x2QFhu5"
      },
      "execution_count": null,
      "outputs": []
    },
    {
      "cell_type": "code",
      "source": [
        "summary_table['Odds_Ratio']=np.exp(summary_table.Coefficient)"
      ],
      "metadata": {
        "id": "ccKG7M4pGlsh"
      },
      "execution_count": null,
      "outputs": []
    },
    {
      "cell_type": "code",
      "source": [
        "summary_table.sort_values('Odds_Ratio',ascending=False)"
      ],
      "metadata": {
        "colab": {
          "base_uri": "https://localhost:8080/",
          "height": 425
        },
        "id": "0QLJfJNXGz2X",
        "outputId": "817ae284-ef25-4ad7-bce3-4f268687721e"
      },
      "execution_count": null,
      "outputs": [
        {
          "output_type": "execute_result",
          "data": {
            "text/plain": [
              "              Feature name  Coefficient  Odds_Ratio\n",
              "1                 Diseases     2.069521    7.921031\n",
              "3                Poisoning     1.562039    4.768536\n",
              "4             Light_issues     1.312780    3.716491\n",
              "6   Transportation Expense     0.691262    1.996232\n",
              "10                Children     0.370177    1.447991\n",
              "2     Birth_related_issues     0.335811    1.399074\n",
              "8          Body Mass Index     0.324360    1.383144\n",
              "5              Month_Value     0.184698    1.202855\n",
              "9                Education    -0.126656    0.881037\n",
              "7                      Age    -0.198283    0.820138\n",
              "0                Intercept    -0.223756    0.799510\n",
              "11                    Pets    -0.325359    0.722268"
            ],
            "text/html": [
              "\n",
              "  <div id=\"df-9e02a264-7218-471c-828e-0ef224c8fc0c\">\n",
              "    <div class=\"colab-df-container\">\n",
              "      <div>\n",
              "<style scoped>\n",
              "    .dataframe tbody tr th:only-of-type {\n",
              "        vertical-align: middle;\n",
              "    }\n",
              "\n",
              "    .dataframe tbody tr th {\n",
              "        vertical-align: top;\n",
              "    }\n",
              "\n",
              "    .dataframe thead th {\n",
              "        text-align: right;\n",
              "    }\n",
              "</style>\n",
              "<table border=\"1\" class=\"dataframe\">\n",
              "  <thead>\n",
              "    <tr style=\"text-align: right;\">\n",
              "      <th></th>\n",
              "      <th>Feature name</th>\n",
              "      <th>Coefficient</th>\n",
              "      <th>Odds_Ratio</th>\n",
              "    </tr>\n",
              "  </thead>\n",
              "  <tbody>\n",
              "    <tr>\n",
              "      <th>1</th>\n",
              "      <td>Diseases</td>\n",
              "      <td>2.069521</td>\n",
              "      <td>7.921031</td>\n",
              "    </tr>\n",
              "    <tr>\n",
              "      <th>3</th>\n",
              "      <td>Poisoning</td>\n",
              "      <td>1.562039</td>\n",
              "      <td>4.768536</td>\n",
              "    </tr>\n",
              "    <tr>\n",
              "      <th>4</th>\n",
              "      <td>Light_issues</td>\n",
              "      <td>1.312780</td>\n",
              "      <td>3.716491</td>\n",
              "    </tr>\n",
              "    <tr>\n",
              "      <th>6</th>\n",
              "      <td>Transportation Expense</td>\n",
              "      <td>0.691262</td>\n",
              "      <td>1.996232</td>\n",
              "    </tr>\n",
              "    <tr>\n",
              "      <th>10</th>\n",
              "      <td>Children</td>\n",
              "      <td>0.370177</td>\n",
              "      <td>1.447991</td>\n",
              "    </tr>\n",
              "    <tr>\n",
              "      <th>2</th>\n",
              "      <td>Birth_related_issues</td>\n",
              "      <td>0.335811</td>\n",
              "      <td>1.399074</td>\n",
              "    </tr>\n",
              "    <tr>\n",
              "      <th>8</th>\n",
              "      <td>Body Mass Index</td>\n",
              "      <td>0.324360</td>\n",
              "      <td>1.383144</td>\n",
              "    </tr>\n",
              "    <tr>\n",
              "      <th>5</th>\n",
              "      <td>Month_Value</td>\n",
              "      <td>0.184698</td>\n",
              "      <td>1.202855</td>\n",
              "    </tr>\n",
              "    <tr>\n",
              "      <th>9</th>\n",
              "      <td>Education</td>\n",
              "      <td>-0.126656</td>\n",
              "      <td>0.881037</td>\n",
              "    </tr>\n",
              "    <tr>\n",
              "      <th>7</th>\n",
              "      <td>Age</td>\n",
              "      <td>-0.198283</td>\n",
              "      <td>0.820138</td>\n",
              "    </tr>\n",
              "    <tr>\n",
              "      <th>0</th>\n",
              "      <td>Intercept</td>\n",
              "      <td>-0.223756</td>\n",
              "      <td>0.799510</td>\n",
              "    </tr>\n",
              "    <tr>\n",
              "      <th>11</th>\n",
              "      <td>Pets</td>\n",
              "      <td>-0.325359</td>\n",
              "      <td>0.722268</td>\n",
              "    </tr>\n",
              "  </tbody>\n",
              "</table>\n",
              "</div>\n",
              "      <button class=\"colab-df-convert\" onclick=\"convertToInteractive('df-9e02a264-7218-471c-828e-0ef224c8fc0c')\"\n",
              "              title=\"Convert this dataframe to an interactive table.\"\n",
              "              style=\"display:none;\">\n",
              "        \n",
              "  <svg xmlns=\"http://www.w3.org/2000/svg\" height=\"24px\"viewBox=\"0 0 24 24\"\n",
              "       width=\"24px\">\n",
              "    <path d=\"M0 0h24v24H0V0z\" fill=\"none\"/>\n",
              "    <path d=\"M18.56 5.44l.94 2.06.94-2.06 2.06-.94-2.06-.94-.94-2.06-.94 2.06-2.06.94zm-11 1L8.5 8.5l.94-2.06 2.06-.94-2.06-.94L8.5 2.5l-.94 2.06-2.06.94zm10 10l.94 2.06.94-2.06 2.06-.94-2.06-.94-.94-2.06-.94 2.06-2.06.94z\"/><path d=\"M17.41 7.96l-1.37-1.37c-.4-.4-.92-.59-1.43-.59-.52 0-1.04.2-1.43.59L10.3 9.45l-7.72 7.72c-.78.78-.78 2.05 0 2.83L4 21.41c.39.39.9.59 1.41.59.51 0 1.02-.2 1.41-.59l7.78-7.78 2.81-2.81c.8-.78.8-2.07 0-2.86zM5.41 20L4 18.59l7.72-7.72 1.47 1.35L5.41 20z\"/>\n",
              "  </svg>\n",
              "      </button>\n",
              "      \n",
              "  <style>\n",
              "    .colab-df-container {\n",
              "      display:flex;\n",
              "      flex-wrap:wrap;\n",
              "      gap: 12px;\n",
              "    }\n",
              "\n",
              "    .colab-df-convert {\n",
              "      background-color: #E8F0FE;\n",
              "      border: none;\n",
              "      border-radius: 50%;\n",
              "      cursor: pointer;\n",
              "      display: none;\n",
              "      fill: #1967D2;\n",
              "      height: 32px;\n",
              "      padding: 0 0 0 0;\n",
              "      width: 32px;\n",
              "    }\n",
              "\n",
              "    .colab-df-convert:hover {\n",
              "      background-color: #E2EBFA;\n",
              "      box-shadow: 0px 1px 2px rgba(60, 64, 67, 0.3), 0px 1px 3px 1px rgba(60, 64, 67, 0.15);\n",
              "      fill: #174EA6;\n",
              "    }\n",
              "\n",
              "    [theme=dark] .colab-df-convert {\n",
              "      background-color: #3B4455;\n",
              "      fill: #D2E3FC;\n",
              "    }\n",
              "\n",
              "    [theme=dark] .colab-df-convert:hover {\n",
              "      background-color: #434B5C;\n",
              "      box-shadow: 0px 1px 3px 1px rgba(0, 0, 0, 0.15);\n",
              "      filter: drop-shadow(0px 1px 2px rgba(0, 0, 0, 0.3));\n",
              "      fill: #FFFFFF;\n",
              "    }\n",
              "  </style>\n",
              "\n",
              "      <script>\n",
              "        const buttonEl =\n",
              "          document.querySelector('#df-9e02a264-7218-471c-828e-0ef224c8fc0c button.colab-df-convert');\n",
              "        buttonEl.style.display =\n",
              "          google.colab.kernel.accessAllowed ? 'block' : 'none';\n",
              "\n",
              "        async function convertToInteractive(key) {\n",
              "          const element = document.querySelector('#df-9e02a264-7218-471c-828e-0ef224c8fc0c');\n",
              "          const dataTable =\n",
              "            await google.colab.kernel.invokeFunction('convertToInteractive',\n",
              "                                                     [key], {});\n",
              "          if (!dataTable) return;\n",
              "\n",
              "          const docLinkHtml = 'Like what you see? Visit the ' +\n",
              "            '<a target=\"_blank\" href=https://colab.research.google.com/notebooks/data_table.ipynb>data table notebook</a>'\n",
              "            + ' to learn more about interactive tables.';\n",
              "          element.innerHTML = '';\n",
              "          dataTable['output_type'] = 'display_data';\n",
              "          await google.colab.output.renderOutput(dataTable, element);\n",
              "          const docLink = document.createElement('div');\n",
              "          docLink.innerHTML = docLinkHtml;\n",
              "          element.appendChild(docLink);\n",
              "        }\n",
              "      </script>\n",
              "    </div>\n",
              "  </div>\n",
              "  "
            ]
          },
          "metadata": {},
          "execution_count": 29
        }
      ]
    },
    {
      "cell_type": "code",
      "source": [
        "#Drop Unnecessary Variables\n"
      ],
      "metadata": {
        "id": "bMAHLk_LGzmF"
      },
      "execution_count": null,
      "outputs": []
    },
    {
      "cell_type": "markdown",
      "source": [
        "Testing the model"
      ],
      "metadata": {
        "id": "x5S90WoCZezA"
      }
    },
    {
      "cell_type": "code",
      "source": [
        "reg.score(x_test,y_test)"
      ],
      "metadata": {
        "colab": {
          "base_uri": "https://localhost:8080/"
        },
        "id": "mnXx2ncnZjQk",
        "outputId": "a0b3bd63-2adc-4436-e7b4-e2a5008c28f1"
      },
      "execution_count": null,
      "outputs": [
        {
          "output_type": "execute_result",
          "data": {
            "text/plain": [
              "0.7357142857142858"
            ]
          },
          "metadata": {},
          "execution_count": 31
        }
      ]
    },
    {
      "cell_type": "code",
      "source": [
        "predicted_proba = reg.predict_proba(x_test)\n",
        "predicted_proba"
      ],
      "metadata": {
        "colab": {
          "base_uri": "https://localhost:8080/"
        },
        "id": "2-24MgbcaiEA",
        "outputId": "908f1113-bee7-46f3-f724-e38b7fe41fd8"
      },
      "execution_count": null,
      "outputs": [
        {
          "output_type": "execute_result",
          "data": {
            "text/plain": [
              "array([[0.70804629, 0.29195371],\n",
              "       [0.57178351, 0.42821649],\n",
              "       [0.39895299, 0.60104701],\n",
              "       [0.78714111, 0.21285889],\n",
              "       [0.06691516, 0.93308484],\n",
              "       [0.31109284, 0.68890716],\n",
              "       [0.28582378, 0.71417622],\n",
              "       [0.08093986, 0.91906014],\n",
              "       [0.79926793, 0.20073207],\n",
              "       [0.7496687 , 0.2503313 ],\n",
              "       [0.46772305, 0.53227695],\n",
              "       [0.18449682, 0.81550318],\n",
              "       [0.04086632, 0.95913368],\n",
              "       [0.75596678, 0.24403322],\n",
              "       [0.23709315, 0.76290685],\n",
              "       [0.54140798, 0.45859202],\n",
              "       [0.53354387, 0.46645613],\n",
              "       [0.52039975, 0.47960025],\n",
              "       [0.40507469, 0.59492531],\n",
              "       [0.02759587, 0.97240413],\n",
              "       [0.70148836, 0.29851164],\n",
              "       [0.78714111, 0.21285889],\n",
              "       [0.40545618, 0.59454382],\n",
              "       [0.40545618, 0.59454382],\n",
              "       [0.17391667, 0.82608333],\n",
              "       [0.75362875, 0.24637125],\n",
              "       [0.48817233, 0.51182767],\n",
              "       [0.88053255, 0.11946745],\n",
              "       [0.13059235, 0.86940765],\n",
              "       [0.78714111, 0.21285889],\n",
              "       [0.62247425, 0.37752575],\n",
              "       [0.30437845, 0.69562155],\n",
              "       [0.28895164, 0.71104836],\n",
              "       [0.44157966, 0.55842034],\n",
              "       [0.78714111, 0.21285889],\n",
              "       [0.43705325, 0.56294675],\n",
              "       [0.79067389, 0.20932611],\n",
              "       [0.18986981, 0.81013019],\n",
              "       [0.58710261, 0.41289739],\n",
              "       [0.36998588, 0.63001412],\n",
              "       [0.79584274, 0.20415726],\n",
              "       [0.57848411, 0.42151589],\n",
              "       [0.77268351, 0.22731649],\n",
              "       [0.89513347, 0.10486653],\n",
              "       [0.14276767, 0.85723233],\n",
              "       [0.34529847, 0.65470153],\n",
              "       [0.29370238, 0.70629762],\n",
              "       [0.70804629, 0.29195371],\n",
              "       [0.78792994, 0.21207006],\n",
              "       [0.80427711, 0.19572289],\n",
              "       [0.43450126, 0.56549874],\n",
              "       [0.92225898, 0.07774102],\n",
              "       [0.31109284, 0.68890716],\n",
              "       [0.73029003, 0.26970997],\n",
              "       [0.14019617, 0.85980383],\n",
              "       [0.54578776, 0.45421224],\n",
              "       [0.06949094, 0.93050906],\n",
              "       [0.78211875, 0.21788125],\n",
              "       [0.91468256, 0.08531744],\n",
              "       [0.91047636, 0.08952364],\n",
              "       [0.29440565, 0.70559435],\n",
              "       [0.3225053 , 0.6774947 ],\n",
              "       [0.71278024, 0.28721976],\n",
              "       [0.13921991, 0.86078009],\n",
              "       [0.81010673, 0.18989327],\n",
              "       [0.72936044, 0.27063956],\n",
              "       [0.98595531, 0.01404469],\n",
              "       [0.79067389, 0.20932611],\n",
              "       [0.18707135, 0.81292865],\n",
              "       [0.71499343, 0.28500657],\n",
              "       [0.79067389, 0.20932611],\n",
              "       [0.93124347, 0.06875653],\n",
              "       [0.07140162, 0.92859838],\n",
              "       [0.52206954, 0.47793046],\n",
              "       [0.36134577, 0.63865423],\n",
              "       [0.78714111, 0.21285889],\n",
              "       [0.14962662, 0.85037338],\n",
              "       [0.26408704, 0.73591296],\n",
              "       [0.22931828, 0.77068172],\n",
              "       [0.32006017, 0.67993983],\n",
              "       [0.76328838, 0.23671162],\n",
              "       [0.98845557, 0.01154443],\n",
              "       [0.78211875, 0.21788125],\n",
              "       [0.22297761, 0.77702239],\n",
              "       [0.55457206, 0.44542794],\n",
              "       [0.90100263, 0.09899737],\n",
              "       [0.26777377, 0.73222623],\n",
              "       [0.40545618, 0.59454382],\n",
              "       [0.94848341, 0.05151659],\n",
              "       [0.30437845, 0.69562155],\n",
              "       [0.85602571, 0.14397429],\n",
              "       [0.86122209, 0.13877791],\n",
              "       [0.77817196, 0.22182804],\n",
              "       [0.72936044, 0.27063956],\n",
              "       [0.7496687 , 0.2503313 ],\n",
              "       [0.12573789, 0.87426211],\n",
              "       [0.69702716, 0.30297284],\n",
              "       [0.21427718, 0.78572282],\n",
              "       [0.76029427, 0.23970573],\n",
              "       [0.81248944, 0.18751056],\n",
              "       [0.33737954, 0.66262046],\n",
              "       [0.30437845, 0.69562155],\n",
              "       [0.27918665, 0.72081335],\n",
              "       [0.24273428, 0.75726572],\n",
              "       [0.53520877, 0.46479123],\n",
              "       [0.4957175 , 0.5042825 ],\n",
              "       [0.71882631, 0.28117369],\n",
              "       [0.12573789, 0.87426211],\n",
              "       [0.20662001, 0.79337999],\n",
              "       [0.86740544, 0.13259456],\n",
              "       [0.98959909, 0.01040091],\n",
              "       [0.07487408, 0.92512592],\n",
              "       [0.2494824 , 0.7505176 ],\n",
              "       [0.65886996, 0.34113004],\n",
              "       [0.45006774, 0.54993226],\n",
              "       [0.42034788, 0.57965212],\n",
              "       [0.14588413, 0.85411587],\n",
              "       [0.15471885, 0.84528115],\n",
              "       [0.45730036, 0.54269964],\n",
              "       [0.69032997, 0.30967003],\n",
              "       [0.73964286, 0.26035714],\n",
              "       [0.862864  , 0.137136  ],\n",
              "       [0.14806763, 0.85193237],\n",
              "       [0.57848411, 0.42151589],\n",
              "       [0.78714111, 0.21285889],\n",
              "       [0.65838291, 0.34161709],\n",
              "       [0.79584274, 0.20415726],\n",
              "       [0.90442096, 0.09557904],\n",
              "       [0.22848616, 0.77151384],\n",
              "       [0.70148836, 0.29851164],\n",
              "       [0.35778052, 0.64221948],\n",
              "       [0.79584274, 0.20415726],\n",
              "       [0.69702716, 0.30297284],\n",
              "       [0.65838291, 0.34161709],\n",
              "       [0.74404968, 0.25595032],\n",
              "       [0.45006774, 0.54993226],\n",
              "       [0.52039975, 0.47960025],\n",
              "       [0.70412694, 0.29587306],\n",
              "       [0.76029427, 0.23970573],\n",
              "       [0.52206954, 0.47793046]])"
            ]
          },
          "metadata": {},
          "execution_count": 32
        }
      ]
    },
    {
      "cell_type": "code",
      "source": [
        "predicted_proba[:,1]"
      ],
      "metadata": {
        "colab": {
          "base_uri": "https://localhost:8080/"
        },
        "id": "9XR60CToatU2",
        "outputId": "b9dbd2cd-a92e-4043-c127-a95ae1434303"
      },
      "execution_count": null,
      "outputs": [
        {
          "output_type": "execute_result",
          "data": {
            "text/plain": [
              "array([0.29195371, 0.42821649, 0.60104701, 0.21285889, 0.93308484,\n",
              "       0.68890716, 0.71417622, 0.91906014, 0.20073207, 0.2503313 ,\n",
              "       0.53227695, 0.81550318, 0.95913368, 0.24403322, 0.76290685,\n",
              "       0.45859202, 0.46645613, 0.47960025, 0.59492531, 0.97240413,\n",
              "       0.29851164, 0.21285889, 0.59454382, 0.59454382, 0.82608333,\n",
              "       0.24637125, 0.51182767, 0.11946745, 0.86940765, 0.21285889,\n",
              "       0.37752575, 0.69562155, 0.71104836, 0.55842034, 0.21285889,\n",
              "       0.56294675, 0.20932611, 0.81013019, 0.41289739, 0.63001412,\n",
              "       0.20415726, 0.42151589, 0.22731649, 0.10486653, 0.85723233,\n",
              "       0.65470153, 0.70629762, 0.29195371, 0.21207006, 0.19572289,\n",
              "       0.56549874, 0.07774102, 0.68890716, 0.26970997, 0.85980383,\n",
              "       0.45421224, 0.93050906, 0.21788125, 0.08531744, 0.08952364,\n",
              "       0.70559435, 0.6774947 , 0.28721976, 0.86078009, 0.18989327,\n",
              "       0.27063956, 0.01404469, 0.20932611, 0.81292865, 0.28500657,\n",
              "       0.20932611, 0.06875653, 0.92859838, 0.47793046, 0.63865423,\n",
              "       0.21285889, 0.85037338, 0.73591296, 0.77068172, 0.67993983,\n",
              "       0.23671162, 0.01154443, 0.21788125, 0.77702239, 0.44542794,\n",
              "       0.09899737, 0.73222623, 0.59454382, 0.05151659, 0.69562155,\n",
              "       0.14397429, 0.13877791, 0.22182804, 0.27063956, 0.2503313 ,\n",
              "       0.87426211, 0.30297284, 0.78572282, 0.23970573, 0.18751056,\n",
              "       0.66262046, 0.69562155, 0.72081335, 0.75726572, 0.46479123,\n",
              "       0.5042825 , 0.28117369, 0.87426211, 0.79337999, 0.13259456,\n",
              "       0.01040091, 0.92512592, 0.7505176 , 0.34113004, 0.54993226,\n",
              "       0.57965212, 0.85411587, 0.84528115, 0.54269964, 0.30967003,\n",
              "       0.26035714, 0.137136  , 0.85193237, 0.42151589, 0.21285889,\n",
              "       0.34161709, 0.20415726, 0.09557904, 0.77151384, 0.29851164,\n",
              "       0.64221948, 0.20415726, 0.30297284, 0.34161709, 0.25595032,\n",
              "       0.54993226, 0.47960025, 0.29587306, 0.23970573, 0.47793046])"
            ]
          },
          "metadata": {},
          "execution_count": 33
        }
      ]
    },
    {
      "cell_type": "markdown",
      "source": [
        "Save the model"
      ],
      "metadata": {
        "id": "5R5yhCWlQ_eL"
      }
    },
    {
      "cell_type": "code",
      "source": [
        "import pickle"
      ],
      "metadata": {
        "id": "jKB7euNPQ-jE"
      },
      "execution_count": null,
      "outputs": []
    },
    {
      "cell_type": "code",
      "source": [
        "with open('model','wb') as file:\n",
        "  pickle.dump(reg,file)"
      ],
      "metadata": {
        "id": "IXESDuLzRSgs"
      },
      "execution_count": null,
      "outputs": []
    },
    {
      "cell_type": "code",
      "source": [
        "with open('scaler','wb') as file:\n",
        "  pickle.dump(absenteeism_scalar,file)"
      ],
      "metadata": {
        "id": "toFxSwnhT3TM"
      },
      "execution_count": null,
      "outputs": []
    },
    {
      "cell_type": "code",
      "source": [],
      "metadata": {
        "id": "VTPz4IfyZc3m"
      },
      "execution_count": null,
      "outputs": []
    }
  ]
}