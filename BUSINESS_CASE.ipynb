{
  "nbformat": 4,
  "nbformat_minor": 0,
  "metadata": {
    "colab": {
      "provenance": []
    },
    "kernelspec": {
      "name": "python3",
      "display_name": "Python 3"
    },
    "language_info": {
      "name": "python"
    }
  },
  "cells": [
    {
      "cell_type": "code",
      "execution_count": 211,
      "metadata": {
        "id": "JjDKDvoQzKiN"
      },
      "outputs": [],
      "source": [
        "import pandas as pd\n",
        "\n",
        "DATA=pd.read_csv('Audiobooks_data.csv')"
      ]
    },
    {
      "cell_type": "code",
      "source": [
        "DATA"
      ],
      "metadata": {
        "colab": {
          "base_uri": "https://localhost:8080/",
          "height": 424
        },
        "id": "2t5EE-jwx-Ym",
        "outputId": "f5137d32-8729-4897-9f82-cf6edaddb737"
      },
      "execution_count": 212,
      "outputs": [
        {
          "output_type": "execute_result",
          "data": {
            "text/plain": [
              "       00994    1620  1620.1  19.73  19.73.1  1  10.00  0.99  1603.80  5   92  \\\n",
              "0       1143  2160.0    2160   5.33     5.33  0   8.91  0.00      0.0  0    0   \n",
              "1       2059  2160.0    2160   5.33     5.33  0   8.91  0.00      0.0  0  388   \n",
              "2       2882  1620.0    1620   5.96     5.96  0   8.91  0.42    680.4  1  129   \n",
              "3       3342  2160.0    2160   5.33     5.33  0   8.91  0.22    475.2  0  361   \n",
              "4       3416  2160.0    2160   4.61     4.61  0   8.91  0.00      0.0  0    0   \n",
              "...      ...     ...     ...    ...      ... ..    ...   ...      ... ..  ...   \n",
              "14078  28220  1620.0    1620   5.33     5.33  1   9.00  0.61    988.2  0    4   \n",
              "14079  28671  1080.0    1080   6.55     6.55  1   6.00  0.29    313.2  0   29   \n",
              "14080  31134  2160.0    2160   6.14     6.14  0   8.91  0.00      0.0  0    0   \n",
              "14081  32832  1620.0    1620   5.33     5.33  1   8.00  0.38    615.6  0   90   \n",
              "14082    251  1674.0    3348   5.33    10.67  0   8.91  0.00      0.0  0    0   \n",
              "\n",
              "       0  \n",
              "0      0  \n",
              "1      0  \n",
              "2      0  \n",
              "3      0  \n",
              "4      0  \n",
              "...   ..  \n",
              "14078  0  \n",
              "14079  0  \n",
              "14080  0  \n",
              "14081  0  \n",
              "14082  1  \n",
              "\n",
              "[14083 rows x 12 columns]"
            ],
            "text/html": [
              "\n",
              "  <div id=\"df-790eaff4-fd09-4468-a0e9-38013f84d55d\">\n",
              "    <div class=\"colab-df-container\">\n",
              "      <div>\n",
              "<style scoped>\n",
              "    .dataframe tbody tr th:only-of-type {\n",
              "        vertical-align: middle;\n",
              "    }\n",
              "\n",
              "    .dataframe tbody tr th {\n",
              "        vertical-align: top;\n",
              "    }\n",
              "\n",
              "    .dataframe thead th {\n",
              "        text-align: right;\n",
              "    }\n",
              "</style>\n",
              "<table border=\"1\" class=\"dataframe\">\n",
              "  <thead>\n",
              "    <tr style=\"text-align: right;\">\n",
              "      <th></th>\n",
              "      <th>00994</th>\n",
              "      <th>1620</th>\n",
              "      <th>1620.1</th>\n",
              "      <th>19.73</th>\n",
              "      <th>19.73.1</th>\n",
              "      <th>1</th>\n",
              "      <th>10.00</th>\n",
              "      <th>0.99</th>\n",
              "      <th>1603.80</th>\n",
              "      <th>5</th>\n",
              "      <th>92</th>\n",
              "      <th>0</th>\n",
              "    </tr>\n",
              "  </thead>\n",
              "  <tbody>\n",
              "    <tr>\n",
              "      <th>0</th>\n",
              "      <td>1143</td>\n",
              "      <td>2160.0</td>\n",
              "      <td>2160</td>\n",
              "      <td>5.33</td>\n",
              "      <td>5.33</td>\n",
              "      <td>0</td>\n",
              "      <td>8.91</td>\n",
              "      <td>0.00</td>\n",
              "      <td>0.0</td>\n",
              "      <td>0</td>\n",
              "      <td>0</td>\n",
              "      <td>0</td>\n",
              "    </tr>\n",
              "    <tr>\n",
              "      <th>1</th>\n",
              "      <td>2059</td>\n",
              "      <td>2160.0</td>\n",
              "      <td>2160</td>\n",
              "      <td>5.33</td>\n",
              "      <td>5.33</td>\n",
              "      <td>0</td>\n",
              "      <td>8.91</td>\n",
              "      <td>0.00</td>\n",
              "      <td>0.0</td>\n",
              "      <td>0</td>\n",
              "      <td>388</td>\n",
              "      <td>0</td>\n",
              "    </tr>\n",
              "    <tr>\n",
              "      <th>2</th>\n",
              "      <td>2882</td>\n",
              "      <td>1620.0</td>\n",
              "      <td>1620</td>\n",
              "      <td>5.96</td>\n",
              "      <td>5.96</td>\n",
              "      <td>0</td>\n",
              "      <td>8.91</td>\n",
              "      <td>0.42</td>\n",
              "      <td>680.4</td>\n",
              "      <td>1</td>\n",
              "      <td>129</td>\n",
              "      <td>0</td>\n",
              "    </tr>\n",
              "    <tr>\n",
              "      <th>3</th>\n",
              "      <td>3342</td>\n",
              "      <td>2160.0</td>\n",
              "      <td>2160</td>\n",
              "      <td>5.33</td>\n",
              "      <td>5.33</td>\n",
              "      <td>0</td>\n",
              "      <td>8.91</td>\n",
              "      <td>0.22</td>\n",
              "      <td>475.2</td>\n",
              "      <td>0</td>\n",
              "      <td>361</td>\n",
              "      <td>0</td>\n",
              "    </tr>\n",
              "    <tr>\n",
              "      <th>4</th>\n",
              "      <td>3416</td>\n",
              "      <td>2160.0</td>\n",
              "      <td>2160</td>\n",
              "      <td>4.61</td>\n",
              "      <td>4.61</td>\n",
              "      <td>0</td>\n",
              "      <td>8.91</td>\n",
              "      <td>0.00</td>\n",
              "      <td>0.0</td>\n",
              "      <td>0</td>\n",
              "      <td>0</td>\n",
              "      <td>0</td>\n",
              "    </tr>\n",
              "    <tr>\n",
              "      <th>...</th>\n",
              "      <td>...</td>\n",
              "      <td>...</td>\n",
              "      <td>...</td>\n",
              "      <td>...</td>\n",
              "      <td>...</td>\n",
              "      <td>...</td>\n",
              "      <td>...</td>\n",
              "      <td>...</td>\n",
              "      <td>...</td>\n",
              "      <td>...</td>\n",
              "      <td>...</td>\n",
              "      <td>...</td>\n",
              "    </tr>\n",
              "    <tr>\n",
              "      <th>14078</th>\n",
              "      <td>28220</td>\n",
              "      <td>1620.0</td>\n",
              "      <td>1620</td>\n",
              "      <td>5.33</td>\n",
              "      <td>5.33</td>\n",
              "      <td>1</td>\n",
              "      <td>9.00</td>\n",
              "      <td>0.61</td>\n",
              "      <td>988.2</td>\n",
              "      <td>0</td>\n",
              "      <td>4</td>\n",
              "      <td>0</td>\n",
              "    </tr>\n",
              "    <tr>\n",
              "      <th>14079</th>\n",
              "      <td>28671</td>\n",
              "      <td>1080.0</td>\n",
              "      <td>1080</td>\n",
              "      <td>6.55</td>\n",
              "      <td>6.55</td>\n",
              "      <td>1</td>\n",
              "      <td>6.00</td>\n",
              "      <td>0.29</td>\n",
              "      <td>313.2</td>\n",
              "      <td>0</td>\n",
              "      <td>29</td>\n",
              "      <td>0</td>\n",
              "    </tr>\n",
              "    <tr>\n",
              "      <th>14080</th>\n",
              "      <td>31134</td>\n",
              "      <td>2160.0</td>\n",
              "      <td>2160</td>\n",
              "      <td>6.14</td>\n",
              "      <td>6.14</td>\n",
              "      <td>0</td>\n",
              "      <td>8.91</td>\n",
              "      <td>0.00</td>\n",
              "      <td>0.0</td>\n",
              "      <td>0</td>\n",
              "      <td>0</td>\n",
              "      <td>0</td>\n",
              "    </tr>\n",
              "    <tr>\n",
              "      <th>14081</th>\n",
              "      <td>32832</td>\n",
              "      <td>1620.0</td>\n",
              "      <td>1620</td>\n",
              "      <td>5.33</td>\n",
              "      <td>5.33</td>\n",
              "      <td>1</td>\n",
              "      <td>8.00</td>\n",
              "      <td>0.38</td>\n",
              "      <td>615.6</td>\n",
              "      <td>0</td>\n",
              "      <td>90</td>\n",
              "      <td>0</td>\n",
              "    </tr>\n",
              "    <tr>\n",
              "      <th>14082</th>\n",
              "      <td>251</td>\n",
              "      <td>1674.0</td>\n",
              "      <td>3348</td>\n",
              "      <td>5.33</td>\n",
              "      <td>10.67</td>\n",
              "      <td>0</td>\n",
              "      <td>8.91</td>\n",
              "      <td>0.00</td>\n",
              "      <td>0.0</td>\n",
              "      <td>0</td>\n",
              "      <td>0</td>\n",
              "      <td>1</td>\n",
              "    </tr>\n",
              "  </tbody>\n",
              "</table>\n",
              "<p>14083 rows × 12 columns</p>\n",
              "</div>\n",
              "      <button class=\"colab-df-convert\" onclick=\"convertToInteractive('df-790eaff4-fd09-4468-a0e9-38013f84d55d')\"\n",
              "              title=\"Convert this dataframe to an interactive table.\"\n",
              "              style=\"display:none;\">\n",
              "        \n",
              "  <svg xmlns=\"http://www.w3.org/2000/svg\" height=\"24px\"viewBox=\"0 0 24 24\"\n",
              "       width=\"24px\">\n",
              "    <path d=\"M0 0h24v24H0V0z\" fill=\"none\"/>\n",
              "    <path d=\"M18.56 5.44l.94 2.06.94-2.06 2.06-.94-2.06-.94-.94-2.06-.94 2.06-2.06.94zm-11 1L8.5 8.5l.94-2.06 2.06-.94-2.06-.94L8.5 2.5l-.94 2.06-2.06.94zm10 10l.94 2.06.94-2.06 2.06-.94-2.06-.94-.94-2.06-.94 2.06-2.06.94z\"/><path d=\"M17.41 7.96l-1.37-1.37c-.4-.4-.92-.59-1.43-.59-.52 0-1.04.2-1.43.59L10.3 9.45l-7.72 7.72c-.78.78-.78 2.05 0 2.83L4 21.41c.39.39.9.59 1.41.59.51 0 1.02-.2 1.41-.59l7.78-7.78 2.81-2.81c.8-.78.8-2.07 0-2.86zM5.41 20L4 18.59l7.72-7.72 1.47 1.35L5.41 20z\"/>\n",
              "  </svg>\n",
              "      </button>\n",
              "      \n",
              "  <style>\n",
              "    .colab-df-container {\n",
              "      display:flex;\n",
              "      flex-wrap:wrap;\n",
              "      gap: 12px;\n",
              "    }\n",
              "\n",
              "    .colab-df-convert {\n",
              "      background-color: #E8F0FE;\n",
              "      border: none;\n",
              "      border-radius: 50%;\n",
              "      cursor: pointer;\n",
              "      display: none;\n",
              "      fill: #1967D2;\n",
              "      height: 32px;\n",
              "      padding: 0 0 0 0;\n",
              "      width: 32px;\n",
              "    }\n",
              "\n",
              "    .colab-df-convert:hover {\n",
              "      background-color: #E2EBFA;\n",
              "      box-shadow: 0px 1px 2px rgba(60, 64, 67, 0.3), 0px 1px 3px 1px rgba(60, 64, 67, 0.15);\n",
              "      fill: #174EA6;\n",
              "    }\n",
              "\n",
              "    [theme=dark] .colab-df-convert {\n",
              "      background-color: #3B4455;\n",
              "      fill: #D2E3FC;\n",
              "    }\n",
              "\n",
              "    [theme=dark] .colab-df-convert:hover {\n",
              "      background-color: #434B5C;\n",
              "      box-shadow: 0px 1px 3px 1px rgba(0, 0, 0, 0.15);\n",
              "      filter: drop-shadow(0px 1px 2px rgba(0, 0, 0, 0.3));\n",
              "      fill: #FFFFFF;\n",
              "    }\n",
              "  </style>\n",
              "\n",
              "      <script>\n",
              "        const buttonEl =\n",
              "          document.querySelector('#df-790eaff4-fd09-4468-a0e9-38013f84d55d button.colab-df-convert');\n",
              "        buttonEl.style.display =\n",
              "          google.colab.kernel.accessAllowed ? 'block' : 'none';\n",
              "\n",
              "        async function convertToInteractive(key) {\n",
              "          const element = document.querySelector('#df-790eaff4-fd09-4468-a0e9-38013f84d55d');\n",
              "          const dataTable =\n",
              "            await google.colab.kernel.invokeFunction('convertToInteractive',\n",
              "                                                     [key], {});\n",
              "          if (!dataTable) return;\n",
              "\n",
              "          const docLinkHtml = 'Like what you see? Visit the ' +\n",
              "            '<a target=\"_blank\" href=https://colab.research.google.com/notebooks/data_table.ipynb>data table notebook</a>'\n",
              "            + ' to learn more about interactive tables.';\n",
              "          element.innerHTML = '';\n",
              "          dataTable['output_type'] = 'display_data';\n",
              "          await google.colab.output.renderOutput(dataTable, element);\n",
              "          const docLink = document.createElement('div');\n",
              "          docLink.innerHTML = docLinkHtml;\n",
              "          element.appendChild(docLink);\n",
              "        }\n",
              "      </script>\n",
              "    </div>\n",
              "  </div>\n",
              "  "
            ]
          },
          "metadata": {},
          "execution_count": 212
        }
      ]
    },
    {
      "cell_type": "markdown",
      "source": [
        "# New Section"
      ],
      "metadata": {
        "id": "6kbovZJI3vVJ"
      }
    },
    {
      "cell_type": "code",
      "source": [
        "import numpy as np\n",
        "from sklearn import preprocessing\n"
      ],
      "metadata": {
        "id": "rEvPABiA75Mr"
      },
      "execution_count": 213,
      "outputs": []
    },
    {
      "cell_type": "code",
      "source": [
        "raw_csv_data=np.loadtxt('Audiobooks_data.csv',delimiter=',')\n",
        "unscaled_inputs_all=raw_csv_data[:,1:-1]\n",
        "targets_all=raw_csv_data[:,-1]"
      ],
      "metadata": {
        "id": "LTtUPQ62Cy_9"
      },
      "execution_count": 214,
      "outputs": []
    },
    {
      "cell_type": "code",
      "source": [
        "num_one_targets=int(np.sum(targets_all))\n",
        "print(num_one_targets)"
      ],
      "metadata": {
        "colab": {
          "base_uri": "https://localhost:8080/"
        },
        "id": "wcLFpIvaS75P",
        "outputId": "d3ff9c82-4854-416e-eb40-2bf487c828a9"
      },
      "execution_count": 215,
      "outputs": [
        {
          "output_type": "stream",
          "name": "stdout",
          "text": [
            "2237\n"
          ]
        }
      ]
    },
    {
      "cell_type": "code",
      "source": [
        "targets_all.shape[0]"
      ],
      "metadata": {
        "colab": {
          "base_uri": "https://localhost:8080/"
        },
        "id": "7P1IIQWvUK93",
        "outputId": "81b638c3-6421-4ae6-aa81-5b702ea41f2d"
      },
      "execution_count": 216,
      "outputs": [
        {
          "output_type": "execute_result",
          "data": {
            "text/plain": [
              "14084"
            ]
          },
          "metadata": {},
          "execution_count": 216
        }
      ]
    },
    {
      "cell_type": "code",
      "source": [
        "zero_targets_counter=0\n",
        "indices_to_remove=[]\n",
        "\n",
        "for i in range(targets_all.shape[0]):\n",
        "    if targets_all[i]==0:\n",
        "      zero_targets_counter += 1\n",
        "      if zero_targets_counter > num_one_targets:\n",
        "         indices_to_remove.append(i)\n",
        "\n",
        "unscaled_inputs_equal_priors=np.delete(unscaled_inputs_all,indices_to_remove,axis=0)\n",
        "targets_equal_priors=np.delete(targets_all,indices_to_remove,axis=0)"
      ],
      "metadata": {
        "id": "WTAcwtzBVZ0S"
      },
      "execution_count": 217,
      "outputs": []
    },
    {
      "cell_type": "markdown",
      "source": [
        "STANDARDIZE THE INPUTS\n"
      ],
      "metadata": {
        "id": "_hANo3ds3_U2"
      }
    },
    {
      "cell_type": "code",
      "source": [
        "scaled_inputs=preprocessing.scale(unscaled_inputs_equal_priors)\n",
        "scaled_targerts=preprocessing.scale(targets_equal_priors)"
      ],
      "metadata": {
        "id": "3nWCf423bXud"
      },
      "execution_count": 218,
      "outputs": []
    },
    {
      "cell_type": "markdown",
      "source": [
        "SHUFFLE THE DATA"
      ],
      "metadata": {
        "id": "_0DtOPz6cR1v"
      }
    },
    {
      "cell_type": "code",
      "source": [
        "shuffled_indices= np.arange(scaled_inputs.shape[0])\n",
        "np.random.shuffle(shuffled_indices)\n",
        "\n",
        "shuffled_inputs= scaled_inputs[shuffled_indices]\n",
        "shuffled_targets= targets_equal_priors[shuffled_indices]"
      ],
      "metadata": {
        "id": "2v49ukNlcVvx"
      },
      "execution_count": 219,
      "outputs": []
    },
    {
      "cell_type": "markdown",
      "source": [
        "SPLIT THE DATASET INTO TRAIN,VALIDATION & TEST."
      ],
      "metadata": {
        "id": "aNXoxhVkiVu4"
      }
    },
    {
      "cell_type": "code",
      "source": [
        "samples_count=shuffled_inputs.shape[0]\n",
        "\n",
        "train_samples_count=int(0.7*samples_count)\n",
        "validation_samples_count=int(0.2*samples_count)\n",
        "test_samples_count=samples_count-(train_samples_count+validation_samples_count)\n",
        "\n",
        "print(train_samples_count,validation_samples_count,test_samples_count)"
      ],
      "metadata": {
        "colab": {
          "base_uri": "https://localhost:8080/"
        },
        "id": "duVqmJKhhvCh",
        "outputId": "5f4d8b2c-19bf-48d4-c958-3ec369e1a36c"
      },
      "execution_count": 220,
      "outputs": [
        {
          "output_type": "stream",
          "name": "stdout",
          "text": [
            "3131 894 449\n"
          ]
        }
      ]
    },
    {
      "cell_type": "code",
      "source": [
        "train_inputs=shuffled_inputs[:train_samples_count]\n",
        "train_targets=shuffled_targets[:train_samples_count]\n",
        "\n",
        "validation_inputs=shuffled_inputs[train_samples_count:train_samples_count+validation_samples_count]\n",
        "validation_targets=shuffled_targets[train_samples_count:train_samples_count+validation_samples_count]\n",
        "\n",
        "test_inputs=shuffled_inputs[train_samples_count+validation_samples_count:]\n",
        "test_targets=shuffled_targets[train_samples_count+validation_samples_count:]"
      ],
      "metadata": {
        "id": "ZkMx-_OYoon7"
      },
      "execution_count": 221,
      "outputs": []
    },
    {
      "cell_type": "code",
      "source": [
        "np.savez('Audiobooks_data_train',inputs=train_inputs,targets=train_targets)\n",
        "np.savez('Audiobooks_data_validation',inputs=validation_inputs,targets=validation_targets)\n",
        "np.savez('Audiobooks_data_test',inputs=test_inputs,targets=test_targets)"
      ],
      "metadata": {
        "id": "oBup1mY8cJOD"
      },
      "execution_count": 222,
      "outputs": []
    },
    {
      "cell_type": "markdown",
      "source": [
        "ML ALGORITHMN\n"
      ],
      "metadata": {
        "id": "m3FCkjLhrmE0"
      }
    },
    {
      "cell_type": "code",
      "source": [
        "npz= np.load('Audiobooks_data_train.npz')\n",
        "\n",
        "train_inputs , train_targets=npz['inputs'].astype(np.float), npz['targets'].astype(np.int)\n",
        "\n",
        "npz= np.load('Audiobooks_data_validation.npz')\n",
        "\n",
        "validation_inputs , validation_targets=npz['inputs'].astype(np.float), npz['targets'].astype(np.int)\n",
        "\n",
        "npz= np.load('Audiobooks_data_test.npz')\n",
        "\n",
        "test_inputs , test_targets=npz['inputs'].astype(np.float), npz['targets'].astype(np.int)\n"
      ],
      "metadata": {
        "colab": {
          "base_uri": "https://localhost:8080/"
        },
        "id": "_Ad-M2FwyI0V",
        "outputId": "fb6e112c-8f97-4672-90a7-396bc86a32e8"
      },
      "execution_count": 223,
      "outputs": [
        {
          "output_type": "stream",
          "name": "stderr",
          "text": [
            "<ipython-input-223-6e56aa681ef2>:3: DeprecationWarning: `np.float` is a deprecated alias for the builtin `float`. To silence this warning, use `float` by itself. Doing this will not modify any behavior and is safe. If you specifically wanted the numpy scalar type, use `np.float64` here.\n",
            "Deprecated in NumPy 1.20; for more details and guidance: https://numpy.org/devdocs/release/1.20.0-notes.html#deprecations\n",
            "  train_inputs , train_targets=npz['inputs'].astype(np.float), npz['targets'].astype(np.int)\n",
            "<ipython-input-223-6e56aa681ef2>:3: DeprecationWarning: `np.int` is a deprecated alias for the builtin `int`. To silence this warning, use `int` by itself. Doing this will not modify any behavior and is safe. When replacing `np.int`, you may wish to use e.g. `np.int64` or `np.int32` to specify the precision. If you wish to review your current use, check the release note link for additional information.\n",
            "Deprecated in NumPy 1.20; for more details and guidance: https://numpy.org/devdocs/release/1.20.0-notes.html#deprecations\n",
            "  train_inputs , train_targets=npz['inputs'].astype(np.float), npz['targets'].astype(np.int)\n",
            "<ipython-input-223-6e56aa681ef2>:7: DeprecationWarning: `np.float` is a deprecated alias for the builtin `float`. To silence this warning, use `float` by itself. Doing this will not modify any behavior and is safe. If you specifically wanted the numpy scalar type, use `np.float64` here.\n",
            "Deprecated in NumPy 1.20; for more details and guidance: https://numpy.org/devdocs/release/1.20.0-notes.html#deprecations\n",
            "  validation_inputs , validation_targets=npz['inputs'].astype(np.float), npz['targets'].astype(np.int)\n",
            "<ipython-input-223-6e56aa681ef2>:7: DeprecationWarning: `np.int` is a deprecated alias for the builtin `int`. To silence this warning, use `int` by itself. Doing this will not modify any behavior and is safe. When replacing `np.int`, you may wish to use e.g. `np.int64` or `np.int32` to specify the precision. If you wish to review your current use, check the release note link for additional information.\n",
            "Deprecated in NumPy 1.20; for more details and guidance: https://numpy.org/devdocs/release/1.20.0-notes.html#deprecations\n",
            "  validation_inputs , validation_targets=npz['inputs'].astype(np.float), npz['targets'].astype(np.int)\n",
            "<ipython-input-223-6e56aa681ef2>:11: DeprecationWarning: `np.float` is a deprecated alias for the builtin `float`. To silence this warning, use `float` by itself. Doing this will not modify any behavior and is safe. If you specifically wanted the numpy scalar type, use `np.float64` here.\n",
            "Deprecated in NumPy 1.20; for more details and guidance: https://numpy.org/devdocs/release/1.20.0-notes.html#deprecations\n",
            "  test_inputs , test_targets=npz['inputs'].astype(np.float), npz['targets'].astype(np.int)\n",
            "<ipython-input-223-6e56aa681ef2>:11: DeprecationWarning: `np.int` is a deprecated alias for the builtin `int`. To silence this warning, use `int` by itself. Doing this will not modify any behavior and is safe. When replacing `np.int`, you may wish to use e.g. `np.int64` or `np.int32` to specify the precision. If you wish to review your current use, check the release note link for additional information.\n",
            "Deprecated in NumPy 1.20; for more details and guidance: https://numpy.org/devdocs/release/1.20.0-notes.html#deprecations\n",
            "  test_inputs , test_targets=npz['inputs'].astype(np.float), npz['targets'].astype(np.int)\n"
          ]
        }
      ]
    },
    {
      "cell_type": "code",
      "source": [
        "import tensorflow as tf\n"
      ],
      "metadata": {
        "id": "wFELdBlu2_mL"
      },
      "execution_count": 224,
      "outputs": []
    },
    {
      "cell_type": "code",
      "source": [],
      "metadata": {
        "id": "qxkLEDqC2ap0"
      },
      "execution_count": 224,
      "outputs": []
    },
    {
      "cell_type": "code",
      "source": [
        "input_size=10\n",
        "output_size=2\n",
        "hidden_layer_size=50\n",
        "\n",
        "model=tf.keras.Sequential(\n",
        "    [\n",
        "        \n",
        "        tf.keras.layers.Dense(hidden_layer_size,activation='relu'),\n",
        "        tf.keras.layers.Dense(hidden_layer_size,activation='relu'),\n",
        "        tf.keras.layers.Dense(output_size,activation='softmax')\n",
        "        \n",
        "\n",
        "\n",
        "    ]\n",
        "\n",
        "\n",
        "\n",
        "\n",
        "\n",
        ")\n",
        "model.compile(optimizer='adam',loss='sparse_categorical_crossentropy',metrics=['accuracy'])\n",
        "\n",
        "batch_size=50\n",
        "\n",
        "max_epochs=100\n",
        "\n",
        "early_stopping=tf.keras.callbacks.EarlyStopping(patience=2)\n",
        "\n",
        "\n",
        "model.fit(train_inputs,train_targets,batch_size=batch_size,\n",
        "          epochs=max_epochs,callbacks=[early_stopping],\n",
        "          validation_data=(validation_inputs,validation_targets),\n",
        "          verbose=2)\n",
        "\n",
        "\n"
      ],
      "metadata": {
        "colab": {
          "base_uri": "https://localhost:8080/"
        },
        "id": "2h6J03xK2r4T",
        "outputId": "95a08e45-8855-4d56-9ba0-a5c33f98c17b"
      },
      "execution_count": 225,
      "outputs": [
        {
          "output_type": "stream",
          "name": "stdout",
          "text": [
            "Epoch 1/100\n",
            "63/63 - 1s - loss: 0.6092 - accuracy: 0.6337 - val_loss: 0.4708 - val_accuracy: 0.7595 - 559ms/epoch - 9ms/step\n",
            "Epoch 2/100\n",
            "63/63 - 0s - loss: 0.4689 - accuracy: 0.7442 - val_loss: 0.3938 - val_accuracy: 0.7942 - 130ms/epoch - 2ms/step\n",
            "Epoch 3/100\n",
            "63/63 - 0s - loss: 0.4123 - accuracy: 0.7780 - val_loss: 0.3575 - val_accuracy: 0.8188 - 108ms/epoch - 2ms/step\n",
            "Epoch 4/100\n",
            "63/63 - 0s - loss: 0.3862 - accuracy: 0.7889 - val_loss: 0.3434 - val_accuracy: 0.7942 - 127ms/epoch - 2ms/step\n",
            "Epoch 5/100\n",
            "63/63 - 0s - loss: 0.3720 - accuracy: 0.7934 - val_loss: 0.3305 - val_accuracy: 0.8177 - 139ms/epoch - 2ms/step\n",
            "Epoch 6/100\n",
            "63/63 - 0s - loss: 0.3638 - accuracy: 0.7943 - val_loss: 0.3265 - val_accuracy: 0.8333 - 135ms/epoch - 2ms/step\n",
            "Epoch 7/100\n",
            "63/63 - 0s - loss: 0.3600 - accuracy: 0.8026 - val_loss: 0.3234 - val_accuracy: 0.8322 - 142ms/epoch - 2ms/step\n",
            "Epoch 8/100\n",
            "63/63 - 0s - loss: 0.3522 - accuracy: 0.8074 - val_loss: 0.3249 - val_accuracy: 0.8266 - 126ms/epoch - 2ms/step\n",
            "Epoch 9/100\n",
            "63/63 - 0s - loss: 0.3532 - accuracy: 0.8020 - val_loss: 0.3210 - val_accuracy: 0.8300 - 108ms/epoch - 2ms/step\n",
            "Epoch 10/100\n",
            "63/63 - 0s - loss: 0.3428 - accuracy: 0.8068 - val_loss: 0.3143 - val_accuracy: 0.8289 - 121ms/epoch - 2ms/step\n",
            "Epoch 11/100\n",
            "63/63 - 0s - loss: 0.3498 - accuracy: 0.8042 - val_loss: 0.3120 - val_accuracy: 0.8345 - 123ms/epoch - 2ms/step\n",
            "Epoch 12/100\n",
            "63/63 - 0s - loss: 0.3398 - accuracy: 0.8135 - val_loss: 0.3106 - val_accuracy: 0.8322 - 120ms/epoch - 2ms/step\n",
            "Epoch 13/100\n",
            "63/63 - 0s - loss: 0.3392 - accuracy: 0.8109 - val_loss: 0.3134 - val_accuracy: 0.8266 - 136ms/epoch - 2ms/step\n",
            "Epoch 14/100\n",
            "63/63 - 0s - loss: 0.3443 - accuracy: 0.7994 - val_loss: 0.3115 - val_accuracy: 0.8233 - 148ms/epoch - 2ms/step\n"
          ]
        },
        {
          "output_type": "execute_result",
          "data": {
            "text/plain": [
              "<keras.callbacks.History at 0x7f067ea99af0>"
            ]
          },
          "metadata": {},
          "execution_count": 225
        }
      ]
    },
    {
      "cell_type": "code",
      "source": [
        "test_targets.shape"
      ],
      "metadata": {
        "colab": {
          "base_uri": "https://localhost:8080/"
        },
        "id": "YGboaj0J9Ye5",
        "outputId": "9a4250b7-8d1a-4160-d91f-f941a7879b55"
      },
      "execution_count": 226,
      "outputs": [
        {
          "output_type": "execute_result",
          "data": {
            "text/plain": [
              "(449,)"
            ]
          },
          "metadata": {},
          "execution_count": 226
        }
      ]
    },
    {
      "cell_type": "code",
      "source": [
        "test_loss, test_accuracy=model.evaluate(test_inputs,test_targets)"
      ],
      "metadata": {
        "colab": {
          "base_uri": "https://localhost:8080/"
        },
        "id": "NBF1v-cq8l2E",
        "outputId": "c4ad98fd-f033-403d-e621-af04a4d82a2c"
      },
      "execution_count": 227,
      "outputs": [
        {
          "output_type": "stream",
          "name": "stdout",
          "text": [
            "15/15 [==============================] - 0s 2ms/step - loss: 0.3374 - accuracy: 0.8285\n"
          ]
        }
      ]
    }
  ]
}