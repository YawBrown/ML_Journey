{
  "nbformat": 4,
  "nbformat_minor": 0,
  "metadata": {
    "colab": {
      "provenance": []
    },
    "kernelspec": {
      "name": "python3",
      "display_name": "Python 3"
    },
    "language_info": {
      "name": "python"
    }
  },
  "cells": [
    {
      "cell_type": "code",
      "execution_count": 257,
      "metadata": {
        "id": "mS3JmBK2oGrR"
      },
      "outputs": [],
      "source": [
        "import tensorflow as tf\n",
        "import numpy as np"
      ]
    },
    {
      "cell_type": "markdown",
      "source": [
        "DATA"
      ],
      "metadata": {
        "id": "EdlMerTDNVC2"
      }
    },
    {
      "cell_type": "code",
      "source": [
        "import tensorflow_datasets as tfds"
      ],
      "metadata": {
        "id": "N78V4_0PoS7K"
      },
      "execution_count": 258,
      "outputs": []
    },
    {
      "cell_type": "code",
      "source": [
        "mnist_dataset , mnist_info = tfds.load(name='mnist',with_info=True,as_supervised=True)"
      ],
      "metadata": {
        "id": "MPVMAHK5ob3r"
      },
      "execution_count": 259,
      "outputs": []
    },
    {
      "cell_type": "code",
      "source": [],
      "metadata": {
        "id": "RHZPHE81pXsx"
      },
      "execution_count": 259,
      "outputs": []
    },
    {
      "cell_type": "code",
      "source": [
        "mnist_train,mnist_test=mnist_dataset['train'],mnist_dataset['test']"
      ],
      "metadata": {
        "id": "FJyDyiNSpjvf"
      },
      "execution_count": 260,
      "outputs": []
    },
    {
      "cell_type": "code",
      "source": [
        "num_validation_samples=0.1*mnist_info.splits['train'].num_examples\n",
        "\n",
        "print(num_validation_samples)"
      ],
      "metadata": {
        "colab": {
          "base_uri": "https://localhost:8080/"
        },
        "id": "bJ9cahbbQ9ol",
        "outputId": "5e69daac-1cd2-4189-8c5f-4779248637f2"
      },
      "execution_count": 261,
      "outputs": [
        {
          "output_type": "stream",
          "name": "stdout",
          "text": [
            "6000.0\n"
          ]
        }
      ]
    },
    {
      "cell_type": "code",
      "source": [
        "print(mnist_info.splits['train'].num_examples)"
      ],
      "metadata": {
        "colab": {
          "base_uri": "https://localhost:8080/"
        },
        "id": "FzbcEewxU-PI",
        "outputId": "05568db5-0689-4f48-b7bc-26167aac0dbe"
      },
      "execution_count": 262,
      "outputs": [
        {
          "output_type": "stream",
          "name": "stdout",
          "text": [
            "60000\n"
          ]
        }
      ]
    },
    {
      "cell_type": "markdown",
      "source": [
        "FUNCTION FOR SCALING"
      ],
      "metadata": {
        "id": "IM1C-rPvNV5J"
      }
    },
    {
      "cell_type": "code",
      "source": [
        "def scale(image,label):\n",
        "  image=tf.cast(image,tf.float32)\n",
        "  image/=255.\n",
        "  return image,label"
      ],
      "metadata": {
        "id": "JeeWWUqaRx-L"
      },
      "execution_count": 263,
      "outputs": []
    },
    {
      "cell_type": "markdown",
      "source": [
        "SCALING"
      ],
      "metadata": {
        "id": "of8dZ_vRNc26"
      }
    },
    {
      "cell_type": "code",
      "source": [
        "scaled_train_and_validation_data=mnist_train.map(scale)"
      ],
      "metadata": {
        "id": "pm2WKniFSQrn"
      },
      "execution_count": 264,
      "outputs": []
    },
    {
      "cell_type": "code",
      "source": [
        "test_data=mnist_test.map(scale)"
      ],
      "metadata": {
        "id": "8ci3LdbVS1g0"
      },
      "execution_count": 265,
      "outputs": []
    },
    {
      "cell_type": "code",
      "source": [
        "BUFFER_SIZE=10000\n",
        "shuffled_train_and_validation=scaled_train_and_validation_data.shuffle(BUFFER_SIZE)"
      ],
      "metadata": {
        "id": "uMAhCW8aUyIx"
      },
      "execution_count": 266,
      "outputs": []
    },
    {
      "cell_type": "markdown",
      "source": [
        "SPLITTING TRAINING DATA SET TO VALIDATION AND TRAINING"
      ],
      "metadata": {
        "id": "SFRdJj42NghU"
      }
    },
    {
      "cell_type": "code",
      "source": [
        "num_validation_samples=tf.cast(num_validation_samples,tf.int64)\n",
        "validation_data=shuffled_train_and_validation.take(num_validation_samples)"
      ],
      "metadata": {
        "id": "dojLE8nSjzNl"
      },
      "execution_count": 267,
      "outputs": []
    },
    {
      "cell_type": "code",
      "source": [
        "train_data=shuffled_train_and_validation.skip(num_validation_samples)\n"
      ],
      "metadata": {
        "id": "JcPD-SL6lrge"
      },
      "execution_count": 268,
      "outputs": []
    },
    {
      "cell_type": "markdown",
      "source": [
        "BATCHING DATA SET\n",
        " \n",
        "BATCH SIZE CAN BE FINE TUNED."
      ],
      "metadata": {
        "id": "jxoB3UeRNwwA"
      }
    },
    {
      "cell_type": "code",
      "source": [
        "BATCH_SIZE=1000\n",
        "train_data=train_data.batch(BATCH_SIZE)\n",
        "validation_data=validation_data.batch(num_validation_samples)\n",
        "test_num_samples=mnist_info.splits['test'].num_examples\n",
        "test_num_samples=tf.cast(test_num_samples,tf.int64)\n",
        "test_data=test_data.batch(test_num_samples)\n"
      ],
      "metadata": {
        "id": "tzoM1HWEppLb"
      },
      "execution_count": 269,
      "outputs": []
    },
    {
      "cell_type": "code",
      "source": [
        "validation_inputs, validation_targets=next(iter(validation_data))"
      ],
      "metadata": {
        "id": "wYVuf3aeuqu-"
      },
      "execution_count": 270,
      "outputs": []
    },
    {
      "cell_type": "code",
      "source": [],
      "metadata": {
        "id": "EU4X1cHEoqMq"
      },
      "execution_count": 270,
      "outputs": []
    },
    {
      "cell_type": "code",
      "source": [
        "#train_test_split(*arrays, test_size=None, train_size=None, random_state=None, shuffle=True, stratify=None)"
      ],
      "metadata": {
        "id": "rnKK0bvyky0a"
      },
      "execution_count": 271,
      "outputs": []
    },
    {
      "cell_type": "markdown",
      "source": [
        "MODEL DESIGN"
      ],
      "metadata": {
        "id": "-cic14To60ct"
      }
    },
    {
      "cell_type": "code",
      "source": [
        "input_size=784\n",
        "output_size=10\n",
        "hidden_layer_size=300\n",
        "\n",
        "model=tf.keras.Sequential(\n",
        "    [\n",
        "        tf.keras.layers.Flatten(input_shape=(28,28,1)),\n",
        "        tf.keras.layers.Dense(hidden_layer_size,activation='relu'),\n",
        "        tf.keras.layers.Dense(hidden_layer_size,activation='relu'),  \n",
        "        tf.keras.layers.Dense(hidden_layer_size,activation='relu'),\n",
        "        tf.keras.layers.Dense(hidden_layer_size,activation='relu'), \n",
        "        tf.keras.layers.Dense(hidden_layer_size,activation='relu'),\n",
        "        tf.keras.layers.Dense(hidden_layer_size,activation='tanh'), \n",
        "        tf.keras.layers.Dense(hidden_layer_size,activation='tanh'),\n",
        "        tf.keras.layers.Dense(output_size,activation='softmax')\n",
        "        \n",
        "\n",
        "\n",
        "    ]\n",
        "\n",
        "\n",
        "\n",
        "\n",
        "\n",
        ")"
      ],
      "metadata": {
        "id": "pDrMZQA460L1"
      },
      "execution_count": 272,
      "outputs": []
    },
    {
      "cell_type": "markdown",
      "source": [
        "OPTIMIZER & LOSS FUNCTION"
      ],
      "metadata": {
        "id": "2rEgK3HzLnSi"
      }
    },
    {
      "cell_type": "code",
      "source": [
        "model.compile(optimizer='adam',loss='sparse_categorical_crossentropy',metrics=['accuracy'])"
      ],
      "metadata": {
        "id": "GHKRO3EnLmd-"
      },
      "execution_count": 273,
      "outputs": []
    },
    {
      "cell_type": "code",
      "source": [],
      "metadata": {
        "id": "ek2pbQavPkl1"
      },
      "execution_count": 273,
      "outputs": []
    },
    {
      "cell_type": "markdown",
      "source": [
        "TRAINING"
      ],
      "metadata": {
        "id": "AuGeU_nJNHra"
      }
    },
    {
      "cell_type": "code",
      "source": [
        "num_epochs=5\n",
        "\n",
        "model.fit(train_data,epochs=num_epochs,validation_data=(validation_inputs,validation_targets),verbose=2)"
      ],
      "metadata": {
        "colab": {
          "base_uri": "https://localhost:8080/"
        },
        "id": "aUBw7-w4NF5A",
        "outputId": "5dff8a69-b550-4215-dc97-d42237590f9b"
      },
      "execution_count": 274,
      "outputs": [
        {
          "output_type": "stream",
          "name": "stdout",
          "text": [
            "Epoch 1/5\n",
            "54/54 - 12s - loss: 0.5103 - accuracy: 0.8421 - val_loss: 0.1661 - val_accuracy: 0.9543 - 12s/epoch - 220ms/step\n",
            "Epoch 2/5\n",
            "54/54 - 8s - loss: 0.1420 - accuracy: 0.9561 - val_loss: 0.1144 - val_accuracy: 0.9633 - 8s/epoch - 153ms/step\n",
            "Epoch 3/5\n",
            "54/54 - 8s - loss: 0.0943 - accuracy: 0.9710 - val_loss: 0.0821 - val_accuracy: 0.9737 - 8s/epoch - 148ms/step\n",
            "Epoch 4/5\n",
            "54/54 - 8s - loss: 0.0606 - accuracy: 0.9808 - val_loss: 0.0631 - val_accuracy: 0.9805 - 8s/epoch - 156ms/step\n",
            "Epoch 5/5\n",
            "54/54 - 8s - loss: 0.0503 - accuracy: 0.9841 - val_loss: 0.0481 - val_accuracy: 0.9860 - 8s/epoch - 141ms/step\n"
          ]
        },
        {
          "output_type": "execute_result",
          "data": {
            "text/plain": [
              "<keras.callbacks.History at 0x7fe950cf6790>"
            ]
          },
          "metadata": {},
          "execution_count": 274
        }
      ]
    },
    {
      "cell_type": "markdown",
      "source": [
        "TESTING THE MODEL"
      ],
      "metadata": {
        "id": "M77IEiiYaRnI"
      }
    },
    {
      "cell_type": "code",
      "source": [
        "test_loss ,test_accuracy = model.evaluate(test_data)\n",
        "\n",
        "#print('test loss: {0:.2f}. test accuracy: {1:.2f}% .format(test_loss,test_accuracy*100.))"
      ],
      "metadata": {
        "id": "0gZifL-TaQm3",
        "colab": {
          "base_uri": "https://localhost:8080/"
        },
        "outputId": "3e53d5bc-7535-483e-8503-455d186a861e"
      },
      "execution_count": 276,
      "outputs": [
        {
          "output_type": "stream",
          "name": "stdout",
          "text": [
            "1/1 [==============================] - 1s 1s/step - loss: 0.0803 - accuracy: 0.9755\n"
          ]
        }
      ]
    },
    {
      "cell_type": "code",
      "source": [
        "print(test_accuracy)"
      ],
      "metadata": {
        "id": "U9D0yUY3a_Hr",
        "outputId": "eaf56357-615b-4fc2-9763-33290273d5e9",
        "colab": {
          "base_uri": "https://localhost:8080/"
        }
      },
      "execution_count": 277,
      "outputs": [
        {
          "output_type": "stream",
          "name": "stdout",
          "text": [
            "0.9754999876022339\n"
          ]
        }
      ]
    },
    {
      "cell_type": "code",
      "source": [
        "print('test accuracy: {0:.2f}%' .format(test_accuracy*100.) )"
      ],
      "metadata": {
        "id": "LC3hSAXUbF-Z",
        "outputId": "91096a03-3be1-4cd5-bae9-e46253870d85",
        "colab": {
          "base_uri": "https://localhost:8080/"
        }
      },
      "execution_count": 286,
      "outputs": [
        {
          "output_type": "stream",
          "name": "stdout",
          "text": [
            "test accuracy: 97.55%\n"
          ]
        }
      ]
    }
  ]
}